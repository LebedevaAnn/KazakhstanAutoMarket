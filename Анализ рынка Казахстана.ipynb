{
 "cells": [
  {
   "cell_type": "markdown",
   "id": "b6ddb4d8",
   "metadata": {
    "id": "b6ddb4d8"
   },
   "source": [
    "## Анализ рынка автомобилей в Республике Казахстан\n",
    "\n"
   ]
  },
  {
   "cell_type": "markdown",
   "id": "b6166ed8",
   "metadata": {
    "id": "b6166ed8"
   },
   "source": [
    "Датасет с данными по продажам автомобилей в Казахстане за 2019 год. Данные получены из\n",
    "официальной статистики VAG.\n",
    "\n",
    "Цель - проанализировать авторынок Казахстана\n",
    "\n",
    "Задачи:\n",
    "\n",
    "- очистить данные\n",
    "- определить топовые марки\n",
    "- посмотреть динамику продаж в целом по рынку и по категориям\n",
    "- проанализировать продажи по регионам и автоцентрам\n"
   ]
  },
  {
   "cell_type": "code",
   "execution_count": 1,
   "id": "e0b26eaa",
   "metadata": {
    "id": "e0b26eaa",
    "outputId": "08b372d1-ef6a-4423-ad42-f61963203366"
   },
   "outputs": [],
   "source": [
    "import pandas as pd\n"
   ]
  },
  {
   "cell_type": "markdown",
   "id": "46095112",
   "metadata": {
    "id": "-SBvC5Q9c82F"
   },
   "source": [
    "<font color='#31708f'>📝 <b>Комментарий ревьюера:</b> Лучше весь импорт библиотек поместить в первую ячейку кода - это соответствует стандартам оформления кода РЕР8"
   ]
  },
  {
   "cell_type": "code",
   "execution_count": 2,
   "id": "11c45e4e",
   "metadata": {
    "id": "11c45e4e"
   },
   "outputs": [
    {
     "name": "stderr",
     "output_type": "stream",
     "text": [
      "C:\\Users\\fillorent\\AppData\\Local\\Temp\\ipykernel_15996\\864228695.py:2: DtypeWarning: Columns (7,10) have mixed types. Specify dtype option on import or set low_memory=False.\n",
      "  data = pd.read_csv('kz_2019_final_all_dirt.csv', delimiter = ',')\n"
     ]
    }
   ],
   "source": [
    "# data = pd.read_csv('D:/Downloads/kz_2019_final_all_dirt.csv', delimiter = ',')\n",
    "data = pd.read_csv('kz_2019_final_all_dirt.csv', delimiter = ',')"
   ]
  },
  {
   "cell_type": "code",
   "execution_count": 3,
   "id": "dd9f359d",
   "metadata": {
    "id": "dd9f359d",
    "outputId": "bbc49d80-8e07-48b1-9f4f-e6cefc26ebb6"
   },
   "outputs": [
    {
     "data": {
      "text/html": [
       "<div>\n",
       "<style scoped>\n",
       "    .dataframe tbody tr th:only-of-type {\n",
       "        vertical-align: middle;\n",
       "    }\n",
       "\n",
       "    .dataframe tbody tr th {\n",
       "        vertical-align: top;\n",
       "    }\n",
       "\n",
       "    .dataframe thead th {\n",
       "        text-align: right;\n",
       "    }\n",
       "</style>\n",
       "<table border=\"1\" class=\"dataframe\">\n",
       "  <thead>\n",
       "    <tr style=\"text-align: right;\">\n",
       "      <th></th>\n",
       "      <th>Unnamed: 0</th>\n",
       "      <th>Год</th>\n",
       "      <th>Месяц</th>\n",
       "      <th>Компания</th>\n",
       "      <th>Бренд</th>\n",
       "      <th>Модель</th>\n",
       "      <th>Модификация</th>\n",
       "      <th>Год выпуска</th>\n",
       "      <th>Страна-производитель</th>\n",
       "      <th>Вид топлива</th>\n",
       "      <th>...</th>\n",
       "      <th>Тип клиента</th>\n",
       "      <th>Форма расчета</th>\n",
       "      <th>Количество</th>\n",
       "      <th>Цена, USD</th>\n",
       "      <th>Продажа, USD</th>\n",
       "      <th>Область</th>\n",
       "      <th>Сегментация 2013</th>\n",
       "      <th>Класс 2013</th>\n",
       "      <th>Сегментация Eng</th>\n",
       "      <th>Локализация производства</th>\n",
       "    </tr>\n",
       "  </thead>\n",
       "  <tbody>\n",
       "    <tr>\n",
       "      <th>0</th>\n",
       "      <td>0</td>\n",
       "      <td>2019</td>\n",
       "      <td>Март</td>\n",
       "      <td>Mercur Auto</td>\n",
       "      <td>Audi</td>\n",
       "      <td>A3</td>\n",
       "      <td>Audi A3 TFSI</td>\n",
       "      <td>2017</td>\n",
       "      <td>Германия</td>\n",
       "      <td>Бензин</td>\n",
       "      <td>...</td>\n",
       "      <td>Физ. Лицо</td>\n",
       "      <td>безналичный</td>\n",
       "      <td>1.0</td>\n",
       "      <td>31250.000000</td>\n",
       "      <td>31250.000000</td>\n",
       "      <td>г.Алматы</td>\n",
       "      <td>Легковые автомобили</td>\n",
       "      <td>C класс</td>\n",
       "      <td>C</td>\n",
       "      <td>Импорт</td>\n",
       "    </tr>\n",
       "    <tr>\n",
       "      <th>1</th>\n",
       "      <td>1</td>\n",
       "      <td>2019</td>\n",
       "      <td>Май</td>\n",
       "      <td>Mercur Auto</td>\n",
       "      <td>Audi</td>\n",
       "      <td>A3</td>\n",
       "      <td>TFSI</td>\n",
       "      <td>2018</td>\n",
       "      <td>Германия</td>\n",
       "      <td>Бензин</td>\n",
       "      <td>...</td>\n",
       "      <td>Физ. Лицо</td>\n",
       "      <td>наличный</td>\n",
       "      <td>1.0</td>\n",
       "      <td>30581.000000</td>\n",
       "      <td>30581.000000</td>\n",
       "      <td>г.Алматы</td>\n",
       "      <td>Легковые автомобили</td>\n",
       "      <td>C класс</td>\n",
       "      <td>C</td>\n",
       "      <td>Импорт</td>\n",
       "    </tr>\n",
       "    <tr>\n",
       "      <th>2</th>\n",
       "      <td>2</td>\n",
       "      <td>2019</td>\n",
       "      <td>Июнь</td>\n",
       "      <td>Mercur Auto</td>\n",
       "      <td>Audi</td>\n",
       "      <td>A3</td>\n",
       "      <td>TFSI</td>\n",
       "      <td>2018</td>\n",
       "      <td>Германия</td>\n",
       "      <td>Бензин</td>\n",
       "      <td>...</td>\n",
       "      <td>Физ. Лицо</td>\n",
       "      <td>наличный</td>\n",
       "      <td>1.0</td>\n",
       "      <td>35087.719000</td>\n",
       "      <td>35087.719000</td>\n",
       "      <td>г.Алматы</td>\n",
       "      <td>Легковые автомобили</td>\n",
       "      <td>C класс</td>\n",
       "      <td>C</td>\n",
       "      <td>Импорт</td>\n",
       "    </tr>\n",
       "    <tr>\n",
       "      <th>3</th>\n",
       "      <td>3</td>\n",
       "      <td>2019</td>\n",
       "      <td>Июль</td>\n",
       "      <td>Mercur Auto</td>\n",
       "      <td>Audi</td>\n",
       "      <td>A3</td>\n",
       "      <td>TFSI</td>\n",
       "      <td>2017</td>\n",
       "      <td>Германия</td>\n",
       "      <td>Бензин</td>\n",
       "      <td>...</td>\n",
       "      <td>Физ. Лицо</td>\n",
       "      <td>наличный</td>\n",
       "      <td>1.0</td>\n",
       "      <td>26608.232900</td>\n",
       "      <td>26608.232900</td>\n",
       "      <td>г.Алматы</td>\n",
       "      <td>Легковые автомобили</td>\n",
       "      <td>C класс</td>\n",
       "      <td>C</td>\n",
       "      <td>Импорт</td>\n",
       "    </tr>\n",
       "    <tr>\n",
       "      <th>4</th>\n",
       "      <td>4</td>\n",
       "      <td>2019</td>\n",
       "      <td>Июль</td>\n",
       "      <td>Mercur Auto</td>\n",
       "      <td>Audi</td>\n",
       "      <td>A4</td>\n",
       "      <td>A4 Allroad TFSI</td>\n",
       "      <td>2017</td>\n",
       "      <td>Германия</td>\n",
       "      <td>Бензин</td>\n",
       "      <td>...</td>\n",
       "      <td>Юр. Лицо</td>\n",
       "      <td>безналичный</td>\n",
       "      <td>1.0</td>\n",
       "      <td>48343.982648</td>\n",
       "      <td>48343.982648</td>\n",
       "      <td>г.Алматы</td>\n",
       "      <td>Легковые автомобили</td>\n",
       "      <td>D класс</td>\n",
       "      <td>D</td>\n",
       "      <td>Импорт</td>\n",
       "    </tr>\n",
       "  </tbody>\n",
       "</table>\n",
       "<p>5 rows × 26 columns</p>\n",
       "</div>"
      ],
      "text/plain": [
       "   Unnamed: 0   Год Месяц     Компания Бренд Модель      Модификация  \\\n",
       "0           0  2019  Март  Mercur Auto  Audi     A3     Audi A3 TFSI   \n",
       "1           1  2019   Май  Mercur Auto  Audi     A3             TFSI   \n",
       "2           2  2019  Июнь  Mercur Auto  Audi     A3             TFSI   \n",
       "3           3  2019  Июль  Mercur Auto  Audi     A3             TFSI   \n",
       "4           4  2019  Июль  Mercur Auto  Audi     A4  A4 Allroad TFSI   \n",
       "\n",
       "  Год выпуска Страна-производитель Вид топлива  ... Тип клиента Форма расчета  \\\n",
       "0        2017             Германия      Бензин  ...   Физ. Лицо   безналичный   \n",
       "1        2018             Германия      Бензин  ...   Физ. Лицо      наличный   \n",
       "2        2018             Германия      Бензин  ...   Физ. Лицо      наличный   \n",
       "3        2017             Германия      Бензин  ...   Физ. Лицо      наличный   \n",
       "4        2017             Германия      Бензин  ...    Юр. Лицо   безналичный   \n",
       "\n",
       "  Количество     Цена, USD  Продажа, USD   Область      Сегментация 2013  \\\n",
       "0        1.0  31250.000000  31250.000000  г.Алматы  Легковые автомобили    \n",
       "1        1.0  30581.000000  30581.000000  г.Алматы  Легковые автомобили    \n",
       "2        1.0  35087.719000  35087.719000  г.Алматы  Легковые автомобили    \n",
       "3        1.0  26608.232900  26608.232900  г.Алматы  Легковые автомобили    \n",
       "4        1.0  48343.982648  48343.982648  г.Алматы  Легковые автомобили    \n",
       "\n",
       "  Класс 2013  Сегментация Eng  Локализация производства  \n",
       "0   C класс                 C                    Импорт  \n",
       "1   C класс                 C                    Импорт  \n",
       "2   C класс                 C                    Импорт  \n",
       "3   C класс                 C                    Импорт  \n",
       "4   D класс                 D                    Импорт  \n",
       "\n",
       "[5 rows x 26 columns]"
      ]
     },
     "execution_count": 3,
     "metadata": {},
     "output_type": "execute_result"
    }
   ],
   "source": [
    "data.head()"
   ]
  },
  {
   "cell_type": "code",
   "execution_count": 4,
   "id": "92a09616",
   "metadata": {
    "id": "92a09616",
    "outputId": "9b418a20-e39e-4e0d-d5ac-9a9e00db4bfc"
   },
   "outputs": [
    {
     "data": {
      "text/plain": [
       "Index(['Unnamed: 0', 'Год', 'Месяц', 'Компания', 'Бренд', 'Модель',\n",
       "       'Модификация', 'Год выпуска', 'Страна-производитель', 'Вид топлива',\n",
       "       'Объём двиг, л,', 'Коробка передач', 'Тип привода', 'Сегмент', 'Регион',\n",
       "       'Наименование дилерского центра', 'Тип клиента', 'Форма расчета',\n",
       "       'Количество', 'Цена, USD', 'Продажа, USD', 'Область',\n",
       "       'Сегментация 2013', 'Класс 2013', 'Сегментация Eng',\n",
       "       'Локализация производства'],\n",
       "      dtype='object')"
      ]
     },
     "execution_count": 4,
     "metadata": {},
     "output_type": "execute_result"
    }
   ],
   "source": [
    "data.columns"
   ]
  },
  {
   "cell_type": "markdown",
   "id": "1688558d",
   "metadata": {
    "id": "1688558d"
   },
   "source": [
    "Столбец 'Unnamed: 0' полностью дублирует индексы. С учетом того, что данные брались из нескольких таблиц, то есть вероятность, что столбец не несет смысловой нагрузки. Однако у нас нет других уникальных идентификаторов конкретного автомобиля, кроме индекса, который может являться идентификатором продажи, поэтому удалять все явные дубликаты - рискованно потерей данных"
   ]
  },
  {
   "cell_type": "code",
   "execution_count": 5,
   "id": "bb0465c5",
   "metadata": {
    "id": "bb0465c5",
    "outputId": "1829f2ac-ee14-42ca-90cd-59978bfe6b2a"
   },
   "outputs": [
    {
     "data": {
      "text/plain": [
       "13356"
      ]
     },
     "execution_count": 5,
     "metadata": {},
     "output_type": "execute_result"
    }
   ],
   "source": [
    "data1 = data.drop(columns= 'Unnamed: 0') # на всякий проверяем количество явных дубликатов в отдельной переменной\n",
    "data1.duplicated().sum()"
   ]
  },
  {
   "cell_type": "markdown",
   "id": "2b6256fe",
   "metadata": {
    "id": "2b6256fe"
   },
   "source": [
    "Явных дубликатов в данном случае - почти половина датасета. Есть риск потерять данные при удалении"
   ]
  },
  {
   "cell_type": "code",
   "execution_count": 79,
   "id": "260b51c4",
   "metadata": {},
   "outputs": [
    {
     "data": {
      "text/html": [
       "<div>\n",
       "<style scoped>\n",
       "    .dataframe tbody tr th:only-of-type {\n",
       "        vertical-align: middle;\n",
       "    }\n",
       "\n",
       "    .dataframe tbody tr th {\n",
       "        vertical-align: top;\n",
       "    }\n",
       "\n",
       "    .dataframe thead th {\n",
       "        text-align: right;\n",
       "    }\n",
       "</style>\n",
       "<table border=\"1\" class=\"dataframe\">\n",
       "  <thead>\n",
       "    <tr style=\"text-align: right;\">\n",
       "      <th></th>\n",
       "      <th>Компания</th>\n",
       "      <th>w_dupl_count</th>\n",
       "      <th>w_dupl_sum</th>\n",
       "      <th>count_share_x</th>\n",
       "      <th>wo_dupl_count</th>\n",
       "      <th>wo_dupl_sum</th>\n",
       "      <th>count_share_y</th>\n",
       "    </tr>\n",
       "  </thead>\n",
       "  <tbody>\n",
       "    <tr>\n",
       "      <th>0</th>\n",
       "      <td>Allur Auto</td>\n",
       "      <td>763</td>\n",
       "      <td>763.0</td>\n",
       "      <td>0.057060</td>\n",
       "      <td>596</td>\n",
       "      <td>596.0</td>\n",
       "      <td>0.019487</td>\n",
       "    </tr>\n",
       "    <tr>\n",
       "      <th>1</th>\n",
       "      <td>Astana Motors</td>\n",
       "      <td>2980</td>\n",
       "      <td>2980.0</td>\n",
       "      <td>0.222854</td>\n",
       "      <td>2766</td>\n",
       "      <td>2801.0</td>\n",
       "      <td>0.091581</td>\n",
       "    </tr>\n",
       "    <tr>\n",
       "      <th>2</th>\n",
       "      <td>Eurasia Motor Premium</td>\n",
       "      <td>4</td>\n",
       "      <td>4.0</td>\n",
       "      <td>0.000299</td>\n",
       "      <td>20</td>\n",
       "      <td>20.0</td>\n",
       "      <td>0.000654</td>\n",
       "    </tr>\n",
       "    <tr>\n",
       "      <th>3</th>\n",
       "      <td>Jaguar Land Rover</td>\n",
       "      <td>31</td>\n",
       "      <td>31.0</td>\n",
       "      <td>0.002318</td>\n",
       "      <td>133</td>\n",
       "      <td>155.0</td>\n",
       "      <td>0.005068</td>\n",
       "    </tr>\n",
       "    <tr>\n",
       "      <th>4</th>\n",
       "      <td>Mercur Auto</td>\n",
       "      <td>233</td>\n",
       "      <td>233.0</td>\n",
       "      <td>0.017424</td>\n",
       "      <td>707</td>\n",
       "      <td>942.0</td>\n",
       "      <td>0.030799</td>\n",
       "    </tr>\n",
       "    <tr>\n",
       "      <th>5</th>\n",
       "      <td>Nissan Manufacturing RUS</td>\n",
       "      <td>23</td>\n",
       "      <td>24.0</td>\n",
       "      <td>0.001795</td>\n",
       "      <td>1014</td>\n",
       "      <td>1737.0</td>\n",
       "      <td>0.056793</td>\n",
       "    </tr>\n",
       "    <tr>\n",
       "      <th>6</th>\n",
       "      <td>Renault Россия</td>\n",
       "      <td>551</td>\n",
       "      <td>551.0</td>\n",
       "      <td>0.041206</td>\n",
       "      <td>537</td>\n",
       "      <td>537.0</td>\n",
       "      <td>0.017558</td>\n",
       "    </tr>\n",
       "    <tr>\n",
       "      <th>7</th>\n",
       "      <td>Subaru Kazakhstan</td>\n",
       "      <td>178</td>\n",
       "      <td>178.0</td>\n",
       "      <td>0.013311</td>\n",
       "      <td>342</td>\n",
       "      <td>342.0</td>\n",
       "      <td>0.011182</td>\n",
       "    </tr>\n",
       "    <tr>\n",
       "      <th>8</th>\n",
       "      <td>Toyota Motor Kazakhstan</td>\n",
       "      <td>5549</td>\n",
       "      <td>5549.0</td>\n",
       "      <td>0.414972</td>\n",
       "      <td>4893</td>\n",
       "      <td>4893.0</td>\n",
       "      <td>0.159980</td>\n",
       "    </tr>\n",
       "    <tr>\n",
       "      <th>9</th>\n",
       "      <td>Автомир ГК</td>\n",
       "      <td>2</td>\n",
       "      <td>4.0</td>\n",
       "      <td>0.000299</td>\n",
       "      <td>109</td>\n",
       "      <td>258.0</td>\n",
       "      <td>0.008436</td>\n",
       "    </tr>\n",
       "    <tr>\n",
       "      <th>10</th>\n",
       "      <td>Алматы АТО</td>\n",
       "      <td>14</td>\n",
       "      <td>14.0</td>\n",
       "      <td>0.001047</td>\n",
       "      <td>16</td>\n",
       "      <td>16.0</td>\n",
       "      <td>0.000523</td>\n",
       "    </tr>\n",
       "    <tr>\n",
       "      <th>11</th>\n",
       "      <td>БИПЭК АВТО</td>\n",
       "      <td>178</td>\n",
       "      <td>188.0</td>\n",
       "      <td>0.014059</td>\n",
       "      <td>3412</td>\n",
       "      <td>12569.0</td>\n",
       "      <td>0.410953</td>\n",
       "    </tr>\n",
       "    <tr>\n",
       "      <th>12</th>\n",
       "      <td>Вираж</td>\n",
       "      <td>1004</td>\n",
       "      <td>1004.0</td>\n",
       "      <td>0.075082</td>\n",
       "      <td>2354</td>\n",
       "      <td>2354.0</td>\n",
       "      <td>0.076966</td>\n",
       "    </tr>\n",
       "    <tr>\n",
       "      <th>13</th>\n",
       "      <td>Каспиан Моторс</td>\n",
       "      <td>54</td>\n",
       "      <td>54.0</td>\n",
       "      <td>0.004038</td>\n",
       "      <td>114</td>\n",
       "      <td>114.0</td>\n",
       "      <td>0.003727</td>\n",
       "    </tr>\n",
       "    <tr>\n",
       "      <th>14</th>\n",
       "      <td>Лифан Моторс Рус</td>\n",
       "      <td>251</td>\n",
       "      <td>251.0</td>\n",
       "      <td>0.018771</td>\n",
       "      <td>315</td>\n",
       "      <td>315.0</td>\n",
       "      <td>0.010299</td>\n",
       "    </tr>\n",
       "    <tr>\n",
       "      <th>15</th>\n",
       "      <td>ММС Рус</td>\n",
       "      <td>9</td>\n",
       "      <td>11.0</td>\n",
       "      <td>0.000823</td>\n",
       "      <td>270</td>\n",
       "      <td>310.0</td>\n",
       "      <td>0.010136</td>\n",
       "    </tr>\n",
       "    <tr>\n",
       "      <th>16</th>\n",
       "      <td>СВС</td>\n",
       "      <td>153</td>\n",
       "      <td>153.0</td>\n",
       "      <td>0.011442</td>\n",
       "      <td>31</td>\n",
       "      <td>34.0</td>\n",
       "      <td>0.001112</td>\n",
       "    </tr>\n",
       "    <tr>\n",
       "      <th>17</th>\n",
       "      <td>СВС-ТРАНС</td>\n",
       "      <td>15</td>\n",
       "      <td>15.0</td>\n",
       "      <td>0.001122</td>\n",
       "      <td>4</td>\n",
       "      <td>4.0</td>\n",
       "      <td>0.000131</td>\n",
       "    </tr>\n",
       "    <tr>\n",
       "      <th>18</th>\n",
       "      <td>ТК КАМАЗ</td>\n",
       "      <td>582</td>\n",
       "      <td>582.0</td>\n",
       "      <td>0.043524</td>\n",
       "      <td>306</td>\n",
       "      <td>306.0</td>\n",
       "      <td>0.010005</td>\n",
       "    </tr>\n",
       "    <tr>\n",
       "      <th>19</th>\n",
       "      <td>ТК Рос-Авто</td>\n",
       "      <td>4</td>\n",
       "      <td>4.0</td>\n",
       "      <td>0.000299</td>\n",
       "      <td>11</td>\n",
       "      <td>11.0</td>\n",
       "      <td>0.000360</td>\n",
       "    </tr>\n",
       "    <tr>\n",
       "      <th>20</th>\n",
       "      <td>УзАвто-Казахстан</td>\n",
       "      <td>777</td>\n",
       "      <td>777.0</td>\n",
       "      <td>0.058106</td>\n",
       "      <td>950</td>\n",
       "      <td>950.0</td>\n",
       "      <td>0.031061</td>\n",
       "    </tr>\n",
       "    <tr>\n",
       "      <th>21</th>\n",
       "      <td>Хино Моторс Казахстан</td>\n",
       "      <td>2</td>\n",
       "      <td>2.0</td>\n",
       "      <td>0.000150</td>\n",
       "      <td>29</td>\n",
       "      <td>58.0</td>\n",
       "      <td>0.001896</td>\n",
       "    </tr>\n",
       "  </tbody>\n",
       "</table>\n",
       "</div>"
      ],
      "text/plain": [
       "                    Компания  w_dupl_count  w_dupl_sum  count_share_x  \\\n",
       "0                 Allur Auto           763       763.0       0.057060   \n",
       "1              Astana Motors          2980      2980.0       0.222854   \n",
       "2      Eurasia Motor Premium             4         4.0       0.000299   \n",
       "3          Jaguar Land Rover            31        31.0       0.002318   \n",
       "4                Mercur Auto           233       233.0       0.017424   \n",
       "5   Nissan Manufacturing RUS            23        24.0       0.001795   \n",
       "6             Renault Россия           551       551.0       0.041206   \n",
       "7          Subaru Kazakhstan           178       178.0       0.013311   \n",
       "8    Toyota Motor Kazakhstan          5549      5549.0       0.414972   \n",
       "9                 Автомир ГК             2         4.0       0.000299   \n",
       "10                Алматы АТО            14        14.0       0.001047   \n",
       "11                БИПЭК АВТО           178       188.0       0.014059   \n",
       "12                     Вираж          1004      1004.0       0.075082   \n",
       "13            Каспиан Моторс            54        54.0       0.004038   \n",
       "14          Лифан Моторс Рус           251       251.0       0.018771   \n",
       "15                   ММС Рус             9        11.0       0.000823   \n",
       "16                       СВС           153       153.0       0.011442   \n",
       "17                 СВС-ТРАНС            15        15.0       0.001122   \n",
       "18                  ТК КАМАЗ           582       582.0       0.043524   \n",
       "19               ТК Рос-Авто             4         4.0       0.000299   \n",
       "20          УзАвто-Казахстан           777       777.0       0.058106   \n",
       "21     Хино Моторс Казахстан             2         2.0       0.000150   \n",
       "\n",
       "    wo_dupl_count  wo_dupl_sum  count_share_y  \n",
       "0             596        596.0       0.019487  \n",
       "1            2766       2801.0       0.091581  \n",
       "2              20         20.0       0.000654  \n",
       "3             133        155.0       0.005068  \n",
       "4             707        942.0       0.030799  \n",
       "5            1014       1737.0       0.056793  \n",
       "6             537        537.0       0.017558  \n",
       "7             342        342.0       0.011182  \n",
       "8            4893       4893.0       0.159980  \n",
       "9             109        258.0       0.008436  \n",
       "10             16         16.0       0.000523  \n",
       "11           3412      12569.0       0.410953  \n",
       "12           2354       2354.0       0.076966  \n",
       "13            114        114.0       0.003727  \n",
       "14            315        315.0       0.010299  \n",
       "15            270        310.0       0.010136  \n",
       "16             31         34.0       0.001112  \n",
       "17              4          4.0       0.000131  \n",
       "18            306        306.0       0.010005  \n",
       "19             11         11.0       0.000360  \n",
       "20            950        950.0       0.031061  \n",
       "21             29         58.0       0.001896  "
      ]
     },
     "execution_count": 79,
     "metadata": {},
     "output_type": "execute_result"
    }
   ],
   "source": [
    "# ячейка ревьюера:\n",
    "\n",
    "# подгружу исходные данные - буду еще к ним возвращаться для примеров :)\n",
    "reviewer_df = pd.read_csv('kz_2019_final_all_dirt.csv', low_memory=False).drop(columns=['Unnamed: 0'])\n",
    "\n",
    "\n",
    "# посмотрим на особенности данных, содержащие дубликаты:\n",
    "(reviewer_df[reviewer_df.duplicated() == True] # оставляем только дубликаты\n",
    " .groupby(['Компания']) # группируем по важным признакам - компания\n",
    " .agg(w_dupl_count = ('Количество','count'),\n",
    "      w_dupl_sum = ('Количество','sum')) # подсчитываем ключевые метрики - доли по продажам\n",
    " .reset_index()\n",
    " .assign(count_share = lambda x: x['w_dupl_sum'] / reviewer_df[reviewer_df.duplicated() == True]['Количество'].sum()) # смотрим на доли\n",
    ").merge((reviewer_df[reviewer_df.duplicated() == False])\n",
    "         .groupby(['Компания']) # группируем по важным признакам - компания\n",
    "         .agg(wo_dupl_count = ('Количество','count'),\n",
    "              wo_dupl_sum = ('Количество','sum'))\n",
    "         .reset_index()\n",
    "         .assign(count_share = lambda x: x['wo_dupl_sum'] / reviewer_df[reviewer_df.duplicated() == False]['Количество'].sum()) # смотрим на доли\n",
    "        , on = \"Компания\", how='left'\n",
    "       )"
   ]
  },
  {
   "cell_type": "code",
   "execution_count": 6,
   "id": "96bf6127",
   "metadata": {
    "id": "96bf6127"
   },
   "outputs": [],
   "source": [
    "#удаляем ненужные столбцы\n",
    "data = data.drop(columns=['Модификация','Форма расчета',  'Сегментация Eng', 'Сегмент','Локализация производства', 'Наименование дилерского центра'])"
   ]
  },
  {
   "cell_type": "code",
   "execution_count": 7,
   "id": "6eaa68da",
   "metadata": {
    "id": "6eaa68da",
    "outputId": "c64d320b-fafc-422c-dc58-e34f158c6a49"
   },
   "outputs": [
    {
     "data": {
      "text/plain": [
       "Index(['Unnamed: 0', 'Год', 'Месяц', 'Компания', 'Бренд', 'Модель',\n",
       "       'Год выпуска', 'Страна-производитель', 'Вид топлива', 'Объём двиг, л,',\n",
       "       'Коробка передач', 'Тип привода', 'Регион', 'Тип клиента', 'Количество',\n",
       "       'Цена, USD', 'Продажа, USD', 'Область', 'Сегментация 2013',\n",
       "       'Класс 2013'],\n",
       "      dtype='object')"
      ]
     },
     "execution_count": 7,
     "metadata": {},
     "output_type": "execute_result"
    }
   ],
   "source": [
    "data.columns"
   ]
  },
  {
   "cell_type": "code",
   "execution_count": 8,
   "id": "c1d0fc4c",
   "metadata": {
    "id": "c1d0fc4c"
   },
   "outputs": [],
   "source": [
    "#переименовываем столбцы на английский язык\n",
    "data.columns = ['index', 'year', 'month', 'company', 'brand', 'model',\n",
    "                'production_year', 'country_of_origin', 'fuel_type', 'engine_capacity',\n",
    "               'transmission', 'drive_type', 'region', 'client_type', 'quantity', 'price_usd', 'sale_usd', 'district',\n",
    "               'segment_2013', 'class_2013']"
   ]
  },
  {
   "cell_type": "code",
   "execution_count": 9,
   "id": "6d0e529a",
   "metadata": {
    "id": "6d0e529a",
    "outputId": "b997372a-1dcf-4432-f454-c01c3dd81384"
   },
   "outputs": [
    {
     "name": "stdout",
     "output_type": "stream",
     "text": [
      "<class 'pandas.core.frame.DataFrame'>\n",
      "RangeIndex: 32854 entries, 0 to 32853\n",
      "Data columns (total 20 columns):\n",
      " #   Column             Non-Null Count  Dtype  \n",
      "---  ------             --------------  -----  \n",
      " 0   index              32854 non-null  int64  \n",
      " 1   year               32854 non-null  int64  \n",
      " 2   month              32854 non-null  object \n",
      " 3   company            32854 non-null  object \n",
      " 4   brand              32854 non-null  object \n",
      " 5   model              32854 non-null  object \n",
      " 6   production_year    32700 non-null  object \n",
      " 7   country_of_origin  32854 non-null  object \n",
      " 8   fuel_type          31942 non-null  object \n",
      " 9   engine_capacity    30968 non-null  object \n",
      " 10  transmission       31662 non-null  object \n",
      " 11  drive_type         30589 non-null  object \n",
      " 12  region             32854 non-null  object \n",
      " 13  client_type        27124 non-null  object \n",
      " 14  quantity           32849 non-null  float64\n",
      " 15  price_usd          32854 non-null  float64\n",
      " 16  sale_usd           32854 non-null  float64\n",
      " 17  district           32854 non-null  object \n",
      " 18  segment_2013       32854 non-null  object \n",
      " 19  class_2013         32854 non-null  object \n",
      "dtypes: float64(3), int64(2), object(15)\n",
      "memory usage: 5.0+ MB\n"
     ]
    }
   ],
   "source": [
    "data.info()"
   ]
  },
  {
   "cell_type": "code",
   "execution_count": 10,
   "id": "332248a9",
   "metadata": {
    "id": "332248a9",
    "outputId": "421c8d16-897d-46cb-80e0-13c2aa053ab3"
   },
   "outputs": [
    {
     "data": {
      "text/plain": [
       "index                   0\n",
       "year                    0\n",
       "month                   0\n",
       "company                 0\n",
       "brand                   0\n",
       "model                   0\n",
       "production_year       154\n",
       "country_of_origin       0\n",
       "fuel_type             912\n",
       "engine_capacity      1886\n",
       "transmission         1192\n",
       "drive_type           2265\n",
       "region                  0\n",
       "client_type          5730\n",
       "quantity                5\n",
       "price_usd               0\n",
       "sale_usd                0\n",
       "district                0\n",
       "segment_2013            0\n",
       "class_2013              0\n",
       "dtype: int64"
      ]
     },
     "execution_count": 10,
     "metadata": {},
     "output_type": "execute_result"
    }
   ],
   "source": [
    "data.isna().sum() # смотрим количество пропущенных значений"
   ]
  },
  {
   "cell_type": "markdown",
   "id": "fd65091a",
   "metadata": {
    "id": "fd65091a"
   },
   "source": [
    "Пропущенные значения будет сложно заметить на подходящее значение без искажения данных. Будем заменять их в тех столбцах, где необходимо преобразование типа данных"
   ]
  },
  {
   "cell_type": "code",
   "execution_count": 11,
   "id": "cd227941",
   "metadata": {
    "id": "cd227941",
    "outputId": "cb1a7989-b987-440b-d628-082553d5d8e7"
   },
   "outputs": [
    {
     "name": "stdout",
     "output_type": "stream",
     "text": [
      "<class 'pandas.core.frame.DataFrame'>\n",
      "RangeIndex: 32854 entries, 0 to 32853\n",
      "Data columns (total 20 columns):\n",
      " #   Column             Non-Null Count  Dtype  \n",
      "---  ------             --------------  -----  \n",
      " 0   index              32854 non-null  int64  \n",
      " 1   year               32854 non-null  int64  \n",
      " 2   month              32854 non-null  object \n",
      " 3   company            32854 non-null  object \n",
      " 4   brand              32854 non-null  object \n",
      " 5   model              32854 non-null  object \n",
      " 6   production_year    32700 non-null  object \n",
      " 7   country_of_origin  32854 non-null  object \n",
      " 8   fuel_type          31942 non-null  object \n",
      " 9   engine_capacity    30968 non-null  object \n",
      " 10  transmission       31662 non-null  object \n",
      " 11  drive_type         30589 non-null  object \n",
      " 12  region             32854 non-null  object \n",
      " 13  client_type        27124 non-null  object \n",
      " 14  quantity           32849 non-null  float64\n",
      " 15  price_usd          32854 non-null  float64\n",
      " 16  sale_usd           32854 non-null  float64\n",
      " 17  district           32854 non-null  object \n",
      " 18  segment_2013       32854 non-null  object \n",
      " 19  class_2013         32854 non-null  object \n",
      "dtypes: float64(3), int64(2), object(15)\n",
      "memory usage: 5.0+ MB\n"
     ]
    }
   ],
   "source": [
    "data.info() # проверяем типы данных"
   ]
  },
  {
   "cell_type": "code",
   "execution_count": 12,
   "id": "d608d7e9",
   "metadata": {
    "id": "d608d7e9"
   },
   "outputs": [],
   "source": [
    "data['engine_capacity'] = data['engine_capacity'].fillna(0)\n"
   ]
  },
  {
   "cell_type": "code",
   "execution_count": 13,
   "id": "38f31fa8",
   "metadata": {
    "id": "38f31fa8",
    "outputId": "652c6dd5-6692-44a7-a8ed-610a2879fa36"
   },
   "outputs": [
    {
     "data": {
      "text/plain": [
       "0"
      ]
     },
     "execution_count": 13,
     "metadata": {},
     "output_type": "execute_result"
    }
   ],
   "source": [
    "\n",
    "data['production_year'] = data['production_year'].fillna(0)\n",
    "data = data[data['production_year'] != 0]\n",
    "data['production_year'].isna().sum()"
   ]
  },
  {
   "cell_type": "code",
   "execution_count": 14,
   "id": "42e64108",
   "metadata": {
    "id": "42e64108",
    "outputId": "566af773-0eec-48d2-812a-632df1ca6fbc"
   },
   "outputs": [
    {
     "data": {
      "text/plain": [
       "0"
      ]
     },
     "execution_count": 14,
     "metadata": {},
     "output_type": "execute_result"
    }
   ],
   "source": [
    "data.duplicated().sum() # проверяем явные дубли"
   ]
  },
  {
   "cell_type": "code",
   "execution_count": 15,
   "id": "25220c0a",
   "metadata": {
    "id": "25220c0a",
    "outputId": "f26c6f9e-ab9e-4c58-b12a-d71a01aa238e"
   },
   "outputs": [
    {
     "data": {
      "text/plain": [
       "array(['1.4', '2', '3', '1.5', '4.4', '6.6', '0', '1.8', '1.596', '1596',\n",
       "       '2.4', '3000', '2400', '1.7', '6.2', '1800', '1400 turbo',\n",
       "       '1.4 Turbo', '2.5', '1.6', '3.5', '2.2', '2.7', '2.8', '4.2', '5',\n",
       "       '3.9', '7.5', '11', '3.933', '12.3', '1.6 T-GDI', '3.7', '5.6',\n",
       "       '7.8', '2.9', '5.2', '10.3', '8.7', '1600', '1.998', '1.598',\n",
       "       '1.248', '2.359', '2359', '1999', '3.8', '3800', '1.591', '1.368',\n",
       "       '3.342', '3.47', '3470', '2000', '1.999', '1.69', '1690', '1.774',\n",
       "       '1598', '1774', '4.9', '4.6', '5.7', '10.5', '6.7', '4', '5.5',\n",
       "       '12', '1.2', '3.6', '6.5', '4.5', '1.25', '1.3', '0.002', '0.0016',\n",
       "       '1998', '13', '16', '1400', '2.3', '1.33', '2.4G', '2.693', '2693',\n",
       "       '2.235', '2235', '2.0', '14860', '14.8', '17.5', '1.2T', '4.88',\n",
       "       '4.0'], dtype=object)"
      ]
     },
     "execution_count": 15,
     "metadata": {},
     "output_type": "execute_result"
    }
   ],
   "source": [
    "#чистим столбец с объемом дваигателя,\n",
    "\n",
    "data['engine_capacity'] = data['engine_capacity'].apply(lambda x:str(x).replace(',', '.'))\n",
    "\n",
    "data['engine_capacity'].unique()\n"
   ]
  },
  {
   "cell_type": "code",
   "execution_count": 86,
   "id": "28b16a7f",
   "metadata": {},
   "outputs": [
    {
     "data": {
      "text/plain": [
       "[0.0,\n",
       " 0.0016,\n",
       " 0.002,\n",
       " 1.2,\n",
       " 1.248,\n",
       " 1.25,\n",
       " 1.3,\n",
       " 1.33,\n",
       " 1.368,\n",
       " 1.4,\n",
       " 1.5,\n",
       " 1.591,\n",
       " 1.596,\n",
       " 1.598,\n",
       " 1.6,\n",
       " 1.69,\n",
       " 1.7,\n",
       " 1.774,\n",
       " 1.8,\n",
       " 1.998,\n",
       " 1.999,\n",
       " 2.0,\n",
       " 2.2,\n",
       " 2.235,\n",
       " 2.3,\n",
       " 2.359,\n",
       " 2.4,\n",
       " 2.5,\n",
       " 2.693,\n",
       " 2.7,\n",
       " 2.8,\n",
       " 2.9,\n",
       " 3.0,\n",
       " 3.342,\n",
       " 3.47,\n",
       " 3.5,\n",
       " 3.6,\n",
       " 3.7,\n",
       " 3.8,\n",
       " 3.9,\n",
       " 3.933,\n",
       " 4.0,\n",
       " 4.2,\n",
       " 4.4,\n",
       " 4.5,\n",
       " 4.6,\n",
       " 4.88,\n",
       " 4.9,\n",
       " 5.0,\n",
       " 5.2,\n",
       " 5.5,\n",
       " 5.6,\n",
       " 5.7,\n",
       " 6.2,\n",
       " 6.5,\n",
       " 6.6,\n",
       " 6.7,\n",
       " 7.5,\n",
       " 7.8,\n",
       " 8.7,\n",
       " 10.3,\n",
       " 10.5,\n",
       " 11.0,\n",
       " 12.0,\n",
       " 12.3,\n",
       " 13.0,\n",
       " 14.8,\n",
       " 14.86,\n",
       " 16.0,\n",
       " 17.5]"
      ]
     },
     "execution_count": 86,
     "metadata": {},
     "output_type": "execute_result"
    }
   ],
   "source": [
    "# ячейка ревьюера:\n",
    "\n",
    "sorted(data['engine_capacity'].unique())"
   ]
  },
  {
   "cell_type": "code",
   "execution_count": 16,
   "id": "defbd468",
   "metadata": {
    "id": "defbd468",
    "outputId": "66f75ac8-b005-488a-92c8-b2ee67e9abed"
   },
   "outputs": [
    {
     "data": {
      "text/plain": [
       "array(['1.4', '2', '3', '1.5', '4.4', '6.6', '0', '1.8', '1.596', '1596',\n",
       "       '2.4', '3000', '2400', '1.7', '6.2', '1800', '1400', '2.5', '1.6',\n",
       "       '3.5', '2.2', '2.7', '2.8', '4.2', '5', '3.9', '7.5', '11',\n",
       "       '3.933', '12.3', '3.7', '5.6', '7.8', '2.9', '5.2', '10.3', '8.7',\n",
       "       '1600', '1.998', '1.598', '1.248', '2.359', '2359', '1999', '3.8',\n",
       "       '3800', '1.591', '1.368', '3.342', '3.47', '3470', '2000', '1.999',\n",
       "       '1.69', '1690', '1.774', '1598', '1774', '4.9', '4.6', '5.7',\n",
       "       '10.5', '6.7', '4', '5.5', '12', '1.2', '3.6', '6.5', '4.5',\n",
       "       '1.25', '1.3', '0.002', '0.0016', '1998', '13', '16', '2.3',\n",
       "       '1.33', '2.693', '2693', '2.235', '2235', '2.0', '14860', '14.8',\n",
       "       '17.5', '4.88', '4.0'], dtype=object)"
      ]
     },
     "execution_count": 16,
     "metadata": {},
     "output_type": "execute_result"
    }
   ],
   "source": [
    "#функция удаления текста из столбца\n",
    "def remove_prefix(name_new):\n",
    "    removal_list = ['Turbo', 'turbo', 'MPI', 'GDI', 'CRDI VGT', 'L', 'T-GDI', 'MT', 'AT', '#Н/Д', 'Л.С.' ,'T', 'h', 'KWH', 'L.','CRDI','WG','G','-']\n",
    "    for word in removal_list:\n",
    "        name_new = name_new.replace(word, \"\").strip()\n",
    "    return name_new\n",
    "data['engine_capacity'] = data['engine_capacity'].apply(remove_prefix)\n",
    "data['engine_capacity'].unique()"
   ]
  },
  {
   "cell_type": "code",
   "execution_count": 17,
   "id": "1c2c1c02",
   "metadata": {
    "id": "1c2c1c02"
   },
   "outputs": [],
   "source": [
    "data['engine_capacity'] = data['engine_capacity'].astype(float) #после чистки приводим с нужному типу"
   ]
  },
  {
   "cell_type": "code",
   "execution_count": 18,
   "id": "82768b54",
   "metadata": {
    "id": "82768b54",
    "outputId": "f0f1531d-d5d6-462f-de8e-b746c8be58b7"
   },
   "outputs": [
    {
     "name": "stdout",
     "output_type": "stream",
     "text": [
      "<class 'pandas.core.frame.DataFrame'>\n",
      "Int64Index: 32700 entries, 0 to 32853\n",
      "Data columns (total 20 columns):\n",
      " #   Column             Non-Null Count  Dtype  \n",
      "---  ------             --------------  -----  \n",
      " 0   index              32700 non-null  int64  \n",
      " 1   year               32700 non-null  int64  \n",
      " 2   month              32700 non-null  object \n",
      " 3   company            32700 non-null  object \n",
      " 4   brand              32700 non-null  object \n",
      " 5   model              32700 non-null  object \n",
      " 6   production_year    32700 non-null  object \n",
      " 7   country_of_origin  32700 non-null  object \n",
      " 8   fuel_type          31829 non-null  object \n",
      " 9   engine_capacity    32700 non-null  float64\n",
      " 10  transmission       31617 non-null  object \n",
      " 11  drive_type         30477 non-null  object \n",
      " 12  region             32700 non-null  object \n",
      " 13  client_type        27124 non-null  object \n",
      " 14  quantity           32695 non-null  float64\n",
      " 15  price_usd          32700 non-null  float64\n",
      " 16  sale_usd           32700 non-null  float64\n",
      " 17  district           32700 non-null  object \n",
      " 18  segment_2013       32700 non-null  object \n",
      " 19  class_2013         32700 non-null  object \n",
      "dtypes: float64(4), int64(2), object(14)\n",
      "memory usage: 5.2+ MB\n"
     ]
    }
   ],
   "source": [
    "data.info() #проверяем результат"
   ]
  },
  {
   "cell_type": "code",
   "execution_count": 19,
   "id": "4343d178",
   "metadata": {
    "id": "4343d178",
    "outputId": "375d0353-3c28-42e8-9d7f-35dedb1cd74e"
   },
   "outputs": [
    {
     "data": {
      "text/plain": [
       "array(['Март', 'Май', 'Июнь', 'Июль', 'Январь', 'Февраль', 'Апрель',\n",
       "       'Август', 'Сентябрь'], dtype=object)"
      ]
     },
     "execution_count": 19,
     "metadata": {},
     "output_type": "execute_result"
    }
   ],
   "source": [
    "data['month'].unique() #проверяем значения в столбце с месяцем"
   ]
  },
  {
   "cell_type": "code",
   "execution_count": 20,
   "id": "a1cedc57",
   "metadata": {
    "id": "a1cedc57",
    "outputId": "aa13ca8b-5bcd-47e9-d24d-fc4bf3c10eae"
   },
   "outputs": [
    {
     "data": {
      "text/html": [
       "<div>\n",
       "<style scoped>\n",
       "    .dataframe tbody tr th:only-of-type {\n",
       "        vertical-align: middle;\n",
       "    }\n",
       "\n",
       "    .dataframe tbody tr th {\n",
       "        vertical-align: top;\n",
       "    }\n",
       "\n",
       "    .dataframe thead th {\n",
       "        text-align: right;\n",
       "    }\n",
       "</style>\n",
       "<table border=\"1\" class=\"dataframe\">\n",
       "  <thead>\n",
       "    <tr style=\"text-align: right;\">\n",
       "      <th></th>\n",
       "      <th>index</th>\n",
       "      <th>year</th>\n",
       "      <th>month</th>\n",
       "      <th>company</th>\n",
       "      <th>brand</th>\n",
       "      <th>model</th>\n",
       "      <th>production_year</th>\n",
       "      <th>country_of_origin</th>\n",
       "      <th>fuel_type</th>\n",
       "      <th>engine_capacity</th>\n",
       "      <th>transmission</th>\n",
       "      <th>drive_type</th>\n",
       "      <th>region</th>\n",
       "      <th>client_type</th>\n",
       "      <th>quantity</th>\n",
       "      <th>price_usd</th>\n",
       "      <th>sale_usd</th>\n",
       "      <th>district</th>\n",
       "      <th>segment_2013</th>\n",
       "      <th>class_2013</th>\n",
       "    </tr>\n",
       "  </thead>\n",
       "  <tbody>\n",
       "    <tr>\n",
       "      <th>0</th>\n",
       "      <td>0</td>\n",
       "      <td>2019</td>\n",
       "      <td>3</td>\n",
       "      <td>Mercur Auto</td>\n",
       "      <td>Audi</td>\n",
       "      <td>A3</td>\n",
       "      <td>2017</td>\n",
       "      <td>Германия</td>\n",
       "      <td>Бензин</td>\n",
       "      <td>1.4</td>\n",
       "      <td>S-tronic</td>\n",
       "      <td>NaN</td>\n",
       "      <td>Алматы</td>\n",
       "      <td>Физ. Лицо</td>\n",
       "      <td>1.0</td>\n",
       "      <td>31250.000000</td>\n",
       "      <td>31250.000000</td>\n",
       "      <td>г.Алматы</td>\n",
       "      <td>Легковые автомобили</td>\n",
       "      <td>C класс</td>\n",
       "    </tr>\n",
       "    <tr>\n",
       "      <th>1</th>\n",
       "      <td>1</td>\n",
       "      <td>2019</td>\n",
       "      <td>5</td>\n",
       "      <td>Mercur Auto</td>\n",
       "      <td>Audi</td>\n",
       "      <td>A3</td>\n",
       "      <td>2018</td>\n",
       "      <td>Германия</td>\n",
       "      <td>Бензин</td>\n",
       "      <td>1.4</td>\n",
       "      <td>S-Тronic</td>\n",
       "      <td>FWD</td>\n",
       "      <td>Алматы</td>\n",
       "      <td>Физ. Лицо</td>\n",
       "      <td>1.0</td>\n",
       "      <td>30581.000000</td>\n",
       "      <td>30581.000000</td>\n",
       "      <td>г.Алматы</td>\n",
       "      <td>Легковые автомобили</td>\n",
       "      <td>C класс</td>\n",
       "    </tr>\n",
       "    <tr>\n",
       "      <th>2</th>\n",
       "      <td>2</td>\n",
       "      <td>2019</td>\n",
       "      <td>6</td>\n",
       "      <td>Mercur Auto</td>\n",
       "      <td>Audi</td>\n",
       "      <td>A3</td>\n",
       "      <td>2018</td>\n",
       "      <td>Германия</td>\n",
       "      <td>Бензин</td>\n",
       "      <td>1.4</td>\n",
       "      <td>S-Тroic</td>\n",
       "      <td>FWD</td>\n",
       "      <td>Алматы</td>\n",
       "      <td>Физ. Лицо</td>\n",
       "      <td>1.0</td>\n",
       "      <td>35087.719000</td>\n",
       "      <td>35087.719000</td>\n",
       "      <td>г.Алматы</td>\n",
       "      <td>Легковые автомобили</td>\n",
       "      <td>C класс</td>\n",
       "    </tr>\n",
       "    <tr>\n",
       "      <th>3</th>\n",
       "      <td>3</td>\n",
       "      <td>2019</td>\n",
       "      <td>7</td>\n",
       "      <td>Mercur Auto</td>\n",
       "      <td>Audi</td>\n",
       "      <td>A3</td>\n",
       "      <td>2017</td>\n",
       "      <td>Германия</td>\n",
       "      <td>Бензин</td>\n",
       "      <td>1.4</td>\n",
       "      <td>S-troic</td>\n",
       "      <td>передний</td>\n",
       "      <td>Алматы</td>\n",
       "      <td>Физ. Лицо</td>\n",
       "      <td>1.0</td>\n",
       "      <td>26608.232900</td>\n",
       "      <td>26608.232900</td>\n",
       "      <td>г.Алматы</td>\n",
       "      <td>Легковые автомобили</td>\n",
       "      <td>C класс</td>\n",
       "    </tr>\n",
       "    <tr>\n",
       "      <th>4</th>\n",
       "      <td>4</td>\n",
       "      <td>2019</td>\n",
       "      <td>7</td>\n",
       "      <td>Mercur Auto</td>\n",
       "      <td>Audi</td>\n",
       "      <td>A4</td>\n",
       "      <td>2017</td>\n",
       "      <td>Германия</td>\n",
       "      <td>Бензин</td>\n",
       "      <td>2.0</td>\n",
       "      <td>S-troic</td>\n",
       "      <td>quattro</td>\n",
       "      <td>Алматы</td>\n",
       "      <td>Юр. Лицо</td>\n",
       "      <td>1.0</td>\n",
       "      <td>48343.982648</td>\n",
       "      <td>48343.982648</td>\n",
       "      <td>г.Алматы</td>\n",
       "      <td>Легковые автомобили</td>\n",
       "      <td>D класс</td>\n",
       "    </tr>\n",
       "  </tbody>\n",
       "</table>\n",
       "</div>"
      ],
      "text/plain": [
       "   index  year  month      company brand model production_year  \\\n",
       "0      0  2019      3  Mercur Auto  Audi    A3            2017   \n",
       "1      1  2019      5  Mercur Auto  Audi    A3            2018   \n",
       "2      2  2019      6  Mercur Auto  Audi    A3            2018   \n",
       "3      3  2019      7  Mercur Auto  Audi    A3            2017   \n",
       "4      4  2019      7  Mercur Auto  Audi    A4            2017   \n",
       "\n",
       "  country_of_origin fuel_type  engine_capacity transmission drive_type  \\\n",
       "0          Германия    Бензин              1.4     S-tronic        NaN   \n",
       "1          Германия    Бензин              1.4     S-Тronic        FWD   \n",
       "2          Германия    Бензин              1.4      S-Тroic        FWD   \n",
       "3          Германия    Бензин              1.4      S-troic   передний   \n",
       "4          Германия    Бензин              2.0      S-troic    quattro   \n",
       "\n",
       "   region client_type  quantity     price_usd      sale_usd  district  \\\n",
       "0  Алматы   Физ. Лицо       1.0  31250.000000  31250.000000  г.Алматы   \n",
       "1  Алматы   Физ. Лицо       1.0  30581.000000  30581.000000  г.Алматы   \n",
       "2  Алматы   Физ. Лицо       1.0  35087.719000  35087.719000  г.Алматы   \n",
       "3  Алматы   Физ. Лицо       1.0  26608.232900  26608.232900  г.Алматы   \n",
       "4  Алматы    Юр. Лицо       1.0  48343.982648  48343.982648  г.Алматы   \n",
       "\n",
       "           segment_2013 class_2013  \n",
       "0  Легковые автомобили    C класс   \n",
       "1  Легковые автомобили    C класс   \n",
       "2  Легковые автомобили    C класс   \n",
       "3  Легковые автомобили    C класс   \n",
       "4  Легковые автомобили    D класс   "
      ]
     },
     "execution_count": 20,
     "metadata": {},
     "output_type": "execute_result"
    }
   ],
   "source": [
    "#функция для преобразования названия месяца в число\n",
    "def monthToNum(month):\n",
    "        months = ['Январь',\n",
    "            'Февраль',\n",
    "            'Март',\n",
    "            'Апрель',\n",
    "            'Май',\n",
    "            'Июнь',\n",
    "            'Июль',\n",
    "            'Август',\n",
    "            'Сентябрь',\n",
    "            'Октябрь',\n",
    "            'Ноябрь',\n",
    "            'Декабрь']\n",
    "        return months.index(month) + 1\n",
    "\n",
    "data['month'] = data['month'].apply(monthToNum)\n",
    "data.head()"
   ]
  },
  {
   "cell_type": "code",
   "execution_count": 21,
   "id": "84b7ac88",
   "metadata": {
    "id": "84b7ac88"
   },
   "outputs": [],
   "source": [
    "data['date'] = pd.to_datetime(data[['year', 'month']].assign(day=1)) #делаем отдельный столбец с датой"
   ]
  },
  {
   "cell_type": "code",
   "execution_count": 22,
   "id": "bdf481ae",
   "metadata": {
    "id": "bdf481ae"
   },
   "outputs": [],
   "source": [
    "data = data.drop(columns=['year', 'month'])"
   ]
  },
  {
   "cell_type": "markdown",
   "id": "b971810e",
   "metadata": {
    "id": "b971810e"
   },
   "source": [
    "Типы данных преобразованы"
   ]
  },
  {
   "cell_type": "code",
   "execution_count": 23,
   "id": "4c858b99",
   "metadata": {
    "id": "4c858b99",
    "outputId": "77fb59d3-f0e6-402d-c3ad-cc8e305e75d9"
   },
   "outputs": [
    {
     "data": {
      "text/plain": [
       "array(['Mercur Auto', 'Автоцентр-Бавария', 'БИПЭК АВТО', 'Вираж',\n",
       "       'Sivi Finance Consulting', 'Eurasia Motor Premium',\n",
       "       'Daewoo Bus Kazakhstan', 'Caspian Motors', 'Каспиан Моторс',\n",
       "       'СемАЗ', 'ТК Рос-Авто', 'Astana Motors',\n",
       "       'Hyundai Com Trans Kazakhstan ', 'Nissan Manufacturing RUS', 'СВС',\n",
       "       'СВС-ТРАНС', 'Allur Auto', 'Jaguar Land Rover', 'ТК КАМАЗ',\n",
       "       'Toyota Motor Kazakhstan', 'Лифан Моторс Рус',\n",
       "       'MAN Truck & Bus Kazakhstan', 'Автомир ГК', 'Autokapital',\n",
       "       'MMC RUS', 'ММС Рус', 'УзАвто-Казахстан', 'Алматы АТО',\n",
       "       'Renault Россия', 'Scania Central Asia', 'Subaru Kazakhstan',\n",
       "       'SMC', 'Scandinavian Motors', 'Хино Моторс Казахстан',\n",
       "       'Hino Motors Kazakhstan'], dtype=object)"
      ]
     },
     "execution_count": 23,
     "metadata": {},
     "output_type": "execute_result"
    }
   ],
   "source": [
    "data['company'].unique() #ищем неявные дубликаты в названиях автоцентов"
   ]
  },
  {
   "cell_type": "code",
   "execution_count": 24,
   "id": "52fbc28e",
   "metadata": {
    "id": "52fbc28e"
   },
   "outputs": [],
   "source": [
    "data['company'] = data['company'].apply(lambda x:x.replace('MMC RUS', 'ММС Рус'))"
   ]
  },
  {
   "cell_type": "code",
   "execution_count": 25,
   "id": "ca487b7c",
   "metadata": {
    "id": "ca487b7c",
    "outputId": "45ccc461-59e4-4c9a-e6dc-606d102ea5be"
   },
   "outputs": [
    {
     "data": {
      "text/plain": [
       "array(['Audi', 'BMW', 'Chevrolet', 'Daewoo', 'Ford', 'Foton', 'GAZ',\n",
       "       'Hyundai', 'Hyundai Truck & Bus', 'Infiniti', 'Isuzu', 'Iveco',\n",
       "       'Jac', 'Jaguar', 'KAMAZ', 'Kia', 'Lada', 'Land Rover', 'Lexus',\n",
       "       'Lifan', 'MAN', 'Mazda', 'Mercedes-Benz', 'Mercedes-Benz Trucks',\n",
       "       'Mini', 'Mitsubishi', 'Nissan', 'Peugeot', 'Porsche', 'Ravon',\n",
       "       'Renault', 'Scania', 'Shacman', 'Skoda', 'SsangYong', 'Subaru',\n",
       "       'Suzuki', 'Toyota', 'UAZ', 'Volkswagen', 'Volvo', 'Урал', 'МАЗ',\n",
       "       'Cadillac', 'ANKAI', 'Hino', 'Rolls Royce'], dtype=object)"
      ]
     },
     "execution_count": 25,
     "metadata": {},
     "output_type": "execute_result"
    }
   ],
   "source": [
    "data['brand'].unique()"
   ]
  },
  {
   "cell_type": "markdown",
   "id": "3cbce94c",
   "metadata": {
    "id": "3cbce94c"
   },
   "source": [
    "Неявные дубли удалены"
   ]
  },
  {
   "cell_type": "code",
   "execution_count": 26,
   "id": "1d235da9",
   "metadata": {
    "id": "1d235da9",
    "outputId": "2609127c-0eef-4069-e051-92bb41c92c1d"
   },
   "outputs": [
    {
     "data": {
      "text/plain": [
       "array(['A3', 'A4', 'A5', 'A6', 'A7', 'A8', 'Q5', 'Q7', '1 серия',\n",
       "       '2 серия', '3 серия', '4 серия', '5 серия', '6 серия', '7 серия',\n",
       "       'i3', 'X1', 'X3', 'X4', 'X5', 'X6', 'Aveo', 'Captiva', 'Niva',\n",
       "       'Tahoe', 'Tracker', 'BS 106 A', 'EcoSport', 'Explorer', 'Fiesta',\n",
       "       'Focus', 'Kuga', 'Mondeo', 'Transit', 'Transit Custom',\n",
       "       'BJ1032V3JB3-S', 'BJ3143DKPGA-1', 'BJ3253DMPKB-AD',\n",
       "       'BJ5032V3BB3-S', 'BJ5163VKCHN-1', '2217', '2310', '2705', '2752',\n",
       "       '3221', '3302', '3308', '3309', 'Next', 'Accent', 'Creta',\n",
       "       'Elantra', 'Genesis G90', 'Grandeur', 'Santa Fe', 'Sonata',\n",
       "       'TQ-1/H-1', 'County', 'H350', 'HD 160', 'HD 170', 'HD 260',\n",
       "       'HD 65', 'HD 72', 'HD 78', 'Universe', 'Tucson', 'Q30', 'Q50',\n",
       "       'QX30', 'QX50', 'QX60', 'QX70', 'QX80', 'D-MAX', 'FVR34', 'NMR',\n",
       "       'NPR', 'NQR71', 'Daily', 'Daily A', 'Daily V', 'Stralis', 'Tipper',\n",
       "       'S3', 'S5', 'F-Pace', 'XE', 'XF', '4308', '43114', '43118',\n",
       "       '43253', '43502', '44108', '45142', '45143', '53215', '5350',\n",
       "       '53504', '53605', '5490', '5814', '6460', '65111', '65115',\n",
       "       '65116', '65117', '6520', '65206', '65225', '65806', '66052',\n",
       "       '66062', '66065', 'КО 829Б ', 'КО-505А', 'Cerato', 'Optima',\n",
       "       'Picanto', 'Quoris', 'Rio', 'Sorento', 'Soul', 'Sportage', '4x4',\n",
       "       '4x4 Pickup', 'Granta', 'Kalina', 'Largus', 'Vesta', 'XRAY', 'ВИС',\n",
       "       'Discovery', 'Discovery Sport', 'Range Rover',\n",
       "       'Range Rover Evoque', 'Range Rover Sport', 'ES', 'GX', 'LS', 'LX',\n",
       "       'NX', 'RX', 'RXH', 'Murman', 'Solano', 'X50', 'X60', 'TG', '3',\n",
       "       '6', 'CX-5', 'A-Class', 'C-Class', 'CLA-Class', 'E-Class',\n",
       "       'G-Class', 'GLA-Class', 'GLC-Class', 'GLE-Class', 'GLS-Class',\n",
       "       'Maybach S500', 'S-Class', 'Actros', 'Sprinter', 'Tourismo',\n",
       "       'V-Class', 'Vito', 'Cooper', 'Countryman', 'ASX', 'Outlander',\n",
       "       'Pajero IV', 'Pajero Sport', 'Almera', 'Juke', 'Murano', 'Qashqai',\n",
       "       'Terrano', 'X-Trail', '3008', '301', '508', 'Partner Panel Van',\n",
       "       'Partner Tepee', '911 Carrera S', 'Boxter', 'Cayenne', 'Macan',\n",
       "       'Panamera', 'Gentra', 'Nexia R3', 'R2', 'R4', 'Duster', 'Kaptur',\n",
       "       'Koleos', 'Logan', 'Sandero', 'G-Series', 'P-Series', 'R-Series',\n",
       "       'SX3256DR384', 'SX5256GJBDR384', 'Octavia', 'Rapid', 'Superb B6',\n",
       "       'New Actyon', 'Nomad', 'Tivoli', 'Forester', 'Legacy', 'Outback',\n",
       "       'XV', 'Jimny', 'SX4', 'Camry', 'Corolla', 'Hiace', 'HIGHLANDER',\n",
       "       'HILUX DC', 'LC Prado', 'LC200', 'RAV4', '2206', '2360', '3151',\n",
       "       '3303', '3741', '3909', '3962', 'Cargo', 'Patriot',\n",
       "       'Patriot Pickup', 'Amarok', 'Caravelle', 'Crafter Kasten', 'Jetta',\n",
       "       'Multivan', 'Passat B8', 'Polo', 'Tiguan', 'Touareg',\n",
       "       'Transporter', 'Transporter Kasten', 'XC90', '4320',\n",
       "       '4320-1951-60', '43206-0551', '5557', 'MYWAY', 'ВС 211 МА', 'Q60',\n",
       "       'CX-9', 'HD 35', 'Range Rover Velar', 'BS 106 D', 'Kodiaq',\n",
       "       '5516Х5', 'Escalade', 'GLC Coupe', 'X200', 'E-PACE', 'Dokker',\n",
       "       'LC', 'Eclipse Cross', 'X70', 'R 61', 'N120', 'N75', 'T6',\n",
       "       'SX3258DR384', 'iev', 'S-Series', 'X2', 'N944S', 'S90', 'XC60',\n",
       "       'C-HR', 'ЕА-17У', 'V90 Cross Country', 'HFF6850HGQ4', '300',\n",
       "       'XC40', 'Ghost', '65224', 'FORWARD 18', 'HFF6111K10EV21', 'N56',\n",
       "       'АКН-10', 'XT5', '500'], dtype=object)"
      ]
     },
     "execution_count": 26,
     "metadata": {},
     "output_type": "execute_result"
    }
   ],
   "source": [
    "data['model'].unique()"
   ]
  },
  {
   "cell_type": "markdown",
   "id": "885866d0",
   "metadata": {
    "id": "885866d0"
   },
   "source": [
    " Среди моделей неявных дублей не обнаружено. Возможно у одной модели могут быть два названия , например Lada Niva  = Lada 4x4 , но для большого количество уникальных значений сложно определить их второе название человеку не из сферы."
   ]
  },
  {
   "cell_type": "code",
   "execution_count": 27,
   "id": "b1247875",
   "metadata": {
    "id": "b1247875",
    "outputId": "b59b0b22-2349-4213-c1aa-fa8f0a7cb8bd"
   },
   "outputs": [
    {
     "data": {
      "text/plain": [
       "array(['2017', '2018', '2016', '2011', '2015', '2014', '2013', '2012',\n",
       "       '2\\xa0018', '2\\xa0017', '2\\xa0016', 2018, 2017, 2015, 2016],\n",
       "      dtype=object)"
      ]
     },
     "execution_count": 27,
     "metadata": {},
     "output_type": "execute_result"
    }
   ],
   "source": [
    "data['production_year'].unique()"
   ]
  },
  {
   "cell_type": "code",
   "execution_count": 28,
   "id": "401222e7",
   "metadata": {
    "id": "401222e7",
    "outputId": "b18cf7e2-c8a7-4b23-96c0-071b10e0bf22"
   },
   "outputs": [
    {
     "data": {
      "text/plain": [
       "array(['2017', '2018', '2016', '2011', '2015', '2014', '2013', '2012'],\n",
       "      dtype=object)"
      ]
     },
     "execution_count": 28,
     "metadata": {},
     "output_type": "execute_result"
    }
   ],
   "source": [
    "#удаляем неявные дубли в столбце с годом производства\n",
    "data['production_year'] = data['production_year'].apply(lambda x: str(x).replace('\\xa0', ''))\n",
    "data['production_year'].unique()"
   ]
  },
  {
   "cell_type": "code",
   "execution_count": 29,
   "id": "76e4d68e",
   "metadata": {
    "id": "76e4d68e",
    "outputId": "67926d8a-babd-42ba-b3f4-3ae83a867e78"
   },
   "outputs": [
    {
     "data": {
      "text/plain": [
       "array(['Бензин', 'Дизель', 'гибрид', 'Электрический', nan, '0', 'дизель ',\n",
       "       'Газовый'], dtype=object)"
      ]
     },
     "execution_count": 29,
     "metadata": {},
     "output_type": "execute_result"
    }
   ],
   "source": [
    "data['fuel_type'].unique()\n"
   ]
  },
  {
   "cell_type": "code",
   "execution_count": 30,
   "id": "27e8f1e0",
   "metadata": {
    "id": "27e8f1e0",
    "outputId": "9679bce9-2bf4-40a8-b1d6-11102b1ee86b"
   },
   "outputs": [
    {
     "data": {
      "text/html": [
       "<div>\n",
       "<style scoped>\n",
       "    .dataframe tbody tr th:only-of-type {\n",
       "        vertical-align: middle;\n",
       "    }\n",
       "\n",
       "    .dataframe tbody tr th {\n",
       "        vertical-align: top;\n",
       "    }\n",
       "\n",
       "    .dataframe thead th {\n",
       "        text-align: right;\n",
       "    }\n",
       "</style>\n",
       "<table border=\"1\" class=\"dataframe\">\n",
       "  <thead>\n",
       "    <tr style=\"text-align: right;\">\n",
       "      <th></th>\n",
       "      <th>index</th>\n",
       "      <th>company</th>\n",
       "      <th>brand</th>\n",
       "      <th>model</th>\n",
       "      <th>production_year</th>\n",
       "      <th>country_of_origin</th>\n",
       "      <th>fuel_type</th>\n",
       "      <th>engine_capacity</th>\n",
       "      <th>transmission</th>\n",
       "      <th>drive_type</th>\n",
       "      <th>region</th>\n",
       "      <th>client_type</th>\n",
       "      <th>quantity</th>\n",
       "      <th>price_usd</th>\n",
       "      <th>sale_usd</th>\n",
       "      <th>district</th>\n",
       "      <th>segment_2013</th>\n",
       "      <th>class_2013</th>\n",
       "      <th>date</th>\n",
       "    </tr>\n",
       "  </thead>\n",
       "  <tbody>\n",
       "    <tr>\n",
       "      <th>19519</th>\n",
       "      <td>19519</td>\n",
       "      <td>Renault Россия</td>\n",
       "      <td>Renault</td>\n",
       "      <td>Kaptur</td>\n",
       "      <td>2018</td>\n",
       "      <td>Российская Федерация</td>\n",
       "      <td>0</td>\n",
       "      <td>1.6</td>\n",
       "      <td>CVT</td>\n",
       "      <td>NaN</td>\n",
       "      <td>Петропавловск</td>\n",
       "      <td>NaN</td>\n",
       "      <td>1.0</td>\n",
       "      <td>18154.706431</td>\n",
       "      <td>18154.706431</td>\n",
       "      <td>Северо-Казахстанская область</td>\n",
       "      <td>Внедорожники</td>\n",
       "      <td>Субкомпактные SUV</td>\n",
       "      <td>2019-02-01</td>\n",
       "    </tr>\n",
       "    <tr>\n",
       "      <th>19732</th>\n",
       "      <td>19732</td>\n",
       "      <td>Renault Россия</td>\n",
       "      <td>Renault</td>\n",
       "      <td>Koleos</td>\n",
       "      <td>2017</td>\n",
       "      <td>Российская Федерация</td>\n",
       "      <td>0</td>\n",
       "      <td>0.0</td>\n",
       "      <td>0</td>\n",
       "      <td>NaN</td>\n",
       "      <td>Караганда</td>\n",
       "      <td>NaN</td>\n",
       "      <td>1.0</td>\n",
       "      <td>34690.897794</td>\n",
       "      <td>34690.897794</td>\n",
       "      <td>Карагандинская область</td>\n",
       "      <td>Внедорожники</td>\n",
       "      <td>Компактные SUV</td>\n",
       "      <td>2019-02-01</td>\n",
       "    </tr>\n",
       "    <tr>\n",
       "      <th>19733</th>\n",
       "      <td>19733</td>\n",
       "      <td>Renault Россия</td>\n",
       "      <td>Renault</td>\n",
       "      <td>Koleos</td>\n",
       "      <td>2017</td>\n",
       "      <td>Российская Федерация</td>\n",
       "      <td>0</td>\n",
       "      <td>0.0</td>\n",
       "      <td>0</td>\n",
       "      <td>NaN</td>\n",
       "      <td>Астана</td>\n",
       "      <td>NaN</td>\n",
       "      <td>1.0</td>\n",
       "      <td>34690.897794</td>\n",
       "      <td>34690.897794</td>\n",
       "      <td>г.Астана</td>\n",
       "      <td>Внедорожники</td>\n",
       "      <td>Компактные SUV</td>\n",
       "      <td>2019-02-01</td>\n",
       "    </tr>\n",
       "    <tr>\n",
       "      <th>19953</th>\n",
       "      <td>19953</td>\n",
       "      <td>Renault Россия</td>\n",
       "      <td>Renault</td>\n",
       "      <td>Sandero</td>\n",
       "      <td>2018</td>\n",
       "      <td>Российская Федерация</td>\n",
       "      <td>0</td>\n",
       "      <td>0.0</td>\n",
       "      <td>0</td>\n",
       "      <td>NaN</td>\n",
       "      <td>Астана</td>\n",
       "      <td>NaN</td>\n",
       "      <td>1.0</td>\n",
       "      <td>14137.931034</td>\n",
       "      <td>14137.931034</td>\n",
       "      <td>г.Астана</td>\n",
       "      <td>Легковые автомобили</td>\n",
       "      <td>B класс</td>\n",
       "      <td>2019-02-01</td>\n",
       "    </tr>\n",
       "  </tbody>\n",
       "</table>\n",
       "</div>"
      ],
      "text/plain": [
       "       index         company    brand    model production_year  \\\n",
       "19519  19519  Renault Россия  Renault   Kaptur            2018   \n",
       "19732  19732  Renault Россия  Renault   Koleos            2017   \n",
       "19733  19733  Renault Россия  Renault   Koleos            2017   \n",
       "19953  19953  Renault Россия  Renault  Sandero            2018   \n",
       "\n",
       "          country_of_origin fuel_type  engine_capacity transmission  \\\n",
       "19519  Российская Федерация         0              1.6          CVT   \n",
       "19732  Российская Федерация         0              0.0            0   \n",
       "19733  Российская Федерация         0              0.0            0   \n",
       "19953  Российская Федерация         0              0.0            0   \n",
       "\n",
       "      drive_type         region client_type  quantity     price_usd  \\\n",
       "19519        NaN  Петропавловск         NaN       1.0  18154.706431   \n",
       "19732        NaN      Караганда         NaN       1.0  34690.897794   \n",
       "19733        NaN         Астана         NaN       1.0  34690.897794   \n",
       "19953        NaN         Астана         NaN       1.0  14137.931034   \n",
       "\n",
       "           sale_usd                      district          segment_2013  \\\n",
       "19519  18154.706431  Северо-Казахстанская область         Внедорожники    \n",
       "19732  34690.897794        Карагандинская область         Внедорожники    \n",
       "19733  34690.897794                      г.Астана         Внедорожники    \n",
       "19953  14137.931034                      г.Астана  Легковые автомобили    \n",
       "\n",
       "               class_2013       date  \n",
       "19519  Субкомпактные SUV  2019-02-01  \n",
       "19732     Компактные SUV  2019-02-01  \n",
       "19733     Компактные SUV  2019-02-01  \n",
       "19953            B класс  2019-02-01  "
      ]
     },
     "execution_count": 30,
     "metadata": {},
     "output_type": "execute_result"
    }
   ],
   "source": [
    "data[data['fuel_type'] =='0']"
   ]
  },
  {
   "cell_type": "markdown",
   "id": "956cdd0d",
   "metadata": {
    "id": "956cdd0d"
   },
   "source": [
    "Всего 4 строки с нудевым значением вида топлива. Их можно удалить, это не отразится на исследовании"
   ]
  },
  {
   "cell_type": "code",
   "execution_count": 31,
   "id": "1d24ef4c",
   "metadata": {
    "id": "1d24ef4c"
   },
   "outputs": [],
   "source": [
    "data = data[data['fuel_type'] !='0']"
   ]
  },
  {
   "cell_type": "code",
   "execution_count": 32,
   "id": "40051256",
   "metadata": {
    "id": "40051256"
   },
   "outputs": [],
   "source": [
    "#функция для для приведения вида двигателя к единообразию\n",
    "\n",
    "def fuel(type):\n",
    "    if type in ['Бензин', 'бензин ']:\n",
    "        return 'F'\n",
    "    if type in ['Дизель', 'дизель ']:\n",
    "        return 'D'\n",
    "    if type in ['Электричество', 'Электро']:\n",
    "        return 'E'\n",
    "    if type == 'гибрид':\n",
    "        return 'HYB'\n",
    "    if type == 'Газовый':\n",
    "        return 'G'\n",
    "    else: return None\n",
    "\n",
    "data['fuel_type'] = data['fuel_type'].apply(fuel)\n",
    "\n"
   ]
  },
  {
   "cell_type": "code",
   "execution_count": 33,
   "id": "e731dcbc",
   "metadata": {
    "id": "e731dcbc",
    "outputId": "c9cf2adb-a42a-4e98-b707-f20ff169614d"
   },
   "outputs": [
    {
     "data": {
      "text/plain": [
       "array(['F', 'D', 'HYB', None, 'G'], dtype=object)"
      ]
     },
     "execution_count": 33,
     "metadata": {},
     "output_type": "execute_result"
    }
   ],
   "source": [
    "data['fuel_type'].unique()"
   ]
  },
  {
   "cell_type": "code",
   "execution_count": 34,
   "id": "0a652dd1",
   "metadata": {
    "id": "0a652dd1",
    "outputId": "53d54e0d-804f-4465-c6eb-fd175335b4d5"
   },
   "outputs": [
    {
     "data": {
      "text/plain": [
       "array([1.400e+00, 2.000e+00, 3.000e+00, 1.500e+00, 4.400e+00, 6.600e+00,\n",
       "       0.000e+00, 1.800e+00, 1.596e+00, 1.596e+03, 2.400e+00, 3.000e+03,\n",
       "       2.400e+03, 1.700e+00, 6.200e+00, 1.800e+03, 1.400e+03, 2.500e+00,\n",
       "       1.600e+00, 3.500e+00, 2.200e+00, 2.700e+00, 2.800e+00, 4.200e+00,\n",
       "       5.000e+00, 3.900e+00, 7.500e+00, 1.100e+01, 3.933e+00, 1.230e+01,\n",
       "       3.700e+00, 5.600e+00, 7.800e+00, 2.900e+00, 5.200e+00, 1.030e+01,\n",
       "       8.700e+00, 1.600e+03, 1.998e+00, 1.598e+00, 1.248e+00, 2.359e+00,\n",
       "       2.359e+03, 1.999e+03, 3.800e+00, 3.800e+03, 1.591e+00, 1.368e+00,\n",
       "       3.342e+00, 3.470e+00, 3.470e+03, 2.000e+03, 1.999e+00, 1.690e+00,\n",
       "       1.690e+03, 1.774e+00, 1.598e+03, 1.774e+03, 4.900e+00, 4.600e+00,\n",
       "       5.700e+00, 1.050e+01, 6.700e+00, 4.000e+00, 5.500e+00, 1.200e+01,\n",
       "       1.200e+00, 3.600e+00, 6.500e+00, 4.500e+00, 1.250e+00, 1.300e+00,\n",
       "       2.000e-03, 1.600e-03, 1.998e+03, 1.300e+01, 1.600e+01, 2.300e+00,\n",
       "       1.330e+00, 2.693e+00, 2.693e+03, 2.235e+00, 2.235e+03, 1.486e+04,\n",
       "       1.480e+01, 1.750e+01, 4.880e+00])"
      ]
     },
     "execution_count": 34,
     "metadata": {},
     "output_type": "execute_result"
    }
   ],
   "source": [
    "data['engine_capacity'].unique()"
   ]
  },
  {
   "cell_type": "code",
   "execution_count": 35,
   "id": "46ea04a9",
   "metadata": {
    "id": "46ea04a9",
    "outputId": "368a5484-22e1-479b-e30c-98825cec9ac0"
   },
   "outputs": [
    {
     "data": {
      "text/html": [
       "<div>\n",
       "<style scoped>\n",
       "    .dataframe tbody tr th:only-of-type {\n",
       "        vertical-align: middle;\n",
       "    }\n",
       "\n",
       "    .dataframe tbody tr th {\n",
       "        vertical-align: top;\n",
       "    }\n",
       "\n",
       "    .dataframe thead th {\n",
       "        text-align: right;\n",
       "    }\n",
       "</style>\n",
       "<table border=\"1\" class=\"dataframe\">\n",
       "  <thead>\n",
       "    <tr style=\"text-align: right;\">\n",
       "      <th></th>\n",
       "      <th>index</th>\n",
       "      <th>company</th>\n",
       "      <th>brand</th>\n",
       "      <th>model</th>\n",
       "      <th>production_year</th>\n",
       "      <th>country_of_origin</th>\n",
       "      <th>fuel_type</th>\n",
       "      <th>engine_capacity</th>\n",
       "      <th>transmission</th>\n",
       "      <th>drive_type</th>\n",
       "      <th>region</th>\n",
       "      <th>client_type</th>\n",
       "      <th>quantity</th>\n",
       "      <th>price_usd</th>\n",
       "      <th>sale_usd</th>\n",
       "      <th>district</th>\n",
       "      <th>segment_2013</th>\n",
       "      <th>class_2013</th>\n",
       "      <th>date</th>\n",
       "    </tr>\n",
       "  </thead>\n",
       "  <tbody>\n",
       "    <tr>\n",
       "      <th>328</th>\n",
       "      <td>328</td>\n",
       "      <td>БИПЭК АВТО</td>\n",
       "      <td>Chevrolet</td>\n",
       "      <td>Aveo</td>\n",
       "      <td>2018</td>\n",
       "      <td>Республика Казахстан</td>\n",
       "      <td>F</td>\n",
       "      <td>1596.0</td>\n",
       "      <td>6 АТ</td>\n",
       "      <td>Передний</td>\n",
       "      <td>Уральск</td>\n",
       "      <td>NaN</td>\n",
       "      <td>1.0</td>\n",
       "      <td>12100.000000</td>\n",
       "      <td>12100.000000</td>\n",
       "      <td>Западно-Казахстанская область</td>\n",
       "      <td>Легковые автомобили</td>\n",
       "      <td>B класс</td>\n",
       "      <td>2019-07-01</td>\n",
       "    </tr>\n",
       "    <tr>\n",
       "      <th>329</th>\n",
       "      <td>329</td>\n",
       "      <td>БИПЭК АВТО</td>\n",
       "      <td>Chevrolet</td>\n",
       "      <td>Aveo</td>\n",
       "      <td>2018</td>\n",
       "      <td>Республика Казахстан</td>\n",
       "      <td>F</td>\n",
       "      <td>1596.0</td>\n",
       "      <td>6 АТ</td>\n",
       "      <td>Передний</td>\n",
       "      <td>Павлодар</td>\n",
       "      <td>NaN</td>\n",
       "      <td>1.0</td>\n",
       "      <td>12100.000000</td>\n",
       "      <td>12100.000000</td>\n",
       "      <td>Павлодарская область</td>\n",
       "      <td>Легковые автомобили</td>\n",
       "      <td>B класс</td>\n",
       "      <td>2019-07-01</td>\n",
       "    </tr>\n",
       "    <tr>\n",
       "      <th>330</th>\n",
       "      <td>330</td>\n",
       "      <td>БИПЭК АВТО</td>\n",
       "      <td>Chevrolet</td>\n",
       "      <td>Aveo</td>\n",
       "      <td>2018</td>\n",
       "      <td>Республика Казахстан</td>\n",
       "      <td>F</td>\n",
       "      <td>1596.0</td>\n",
       "      <td>6 АТ</td>\n",
       "      <td>Передний</td>\n",
       "      <td>Атырау</td>\n",
       "      <td>NaN</td>\n",
       "      <td>2.0</td>\n",
       "      <td>12100.000000</td>\n",
       "      <td>24200.000000</td>\n",
       "      <td>Атырауская область</td>\n",
       "      <td>Легковые автомобили</td>\n",
       "      <td>B класс</td>\n",
       "      <td>2019-07-01</td>\n",
       "    </tr>\n",
       "    <tr>\n",
       "      <th>331</th>\n",
       "      <td>331</td>\n",
       "      <td>БИПЭК АВТО</td>\n",
       "      <td>Chevrolet</td>\n",
       "      <td>Aveo</td>\n",
       "      <td>2018</td>\n",
       "      <td>Республика Казахстан</td>\n",
       "      <td>F</td>\n",
       "      <td>1596.0</td>\n",
       "      <td>6 АТ</td>\n",
       "      <td>Передний</td>\n",
       "      <td>Астана</td>\n",
       "      <td>NaN</td>\n",
       "      <td>3.0</td>\n",
       "      <td>12100.000000</td>\n",
       "      <td>36300.000000</td>\n",
       "      <td>г.Астана</td>\n",
       "      <td>Легковые автомобили</td>\n",
       "      <td>B класс</td>\n",
       "      <td>2019-07-01</td>\n",
       "    </tr>\n",
       "    <tr>\n",
       "      <th>332</th>\n",
       "      <td>332</td>\n",
       "      <td>БИПЭК АВТО</td>\n",
       "      <td>Chevrolet</td>\n",
       "      <td>Aveo</td>\n",
       "      <td>2018</td>\n",
       "      <td>Республика Казахстан</td>\n",
       "      <td>F</td>\n",
       "      <td>1596.0</td>\n",
       "      <td>6 АТ</td>\n",
       "      <td>Передний</td>\n",
       "      <td>Алматы</td>\n",
       "      <td>NaN</td>\n",
       "      <td>3.0</td>\n",
       "      <td>12100.000000</td>\n",
       "      <td>36300.000000</td>\n",
       "      <td>г.Алматы</td>\n",
       "      <td>Легковые автомобили</td>\n",
       "      <td>B класс</td>\n",
       "      <td>2019-07-01</td>\n",
       "    </tr>\n",
       "    <tr>\n",
       "      <th>...</th>\n",
       "      <td>...</td>\n",
       "      <td>...</td>\n",
       "      <td>...</td>\n",
       "      <td>...</td>\n",
       "      <td>...</td>\n",
       "      <td>...</td>\n",
       "      <td>...</td>\n",
       "      <td>...</td>\n",
       "      <td>...</td>\n",
       "      <td>...</td>\n",
       "      <td>...</td>\n",
       "      <td>...</td>\n",
       "      <td>...</td>\n",
       "      <td>...</td>\n",
       "      <td>...</td>\n",
       "      <td>...</td>\n",
       "      <td>...</td>\n",
       "      <td>...</td>\n",
       "      <td>...</td>\n",
       "    </tr>\n",
       "    <tr>\n",
       "      <th>32283</th>\n",
       "      <td>32283</td>\n",
       "      <td>БИПЭК АВТО</td>\n",
       "      <td>Skoda</td>\n",
       "      <td>Kodiaq</td>\n",
       "      <td>2018</td>\n",
       "      <td>Республика Казахстан</td>\n",
       "      <td>F</td>\n",
       "      <td>2000.0</td>\n",
       "      <td>7 DSG</td>\n",
       "      <td>Полный</td>\n",
       "      <td>Усть-Каменогорск</td>\n",
       "      <td>NaN</td>\n",
       "      <td>2.0</td>\n",
       "      <td>40000.000000</td>\n",
       "      <td>80000.000000</td>\n",
       "      <td>Восточно-Казахстанская область</td>\n",
       "      <td>Внедорожники</td>\n",
       "      <td>Полноразмерные SUV</td>\n",
       "      <td>2019-07-01</td>\n",
       "    </tr>\n",
       "    <tr>\n",
       "      <th>32284</th>\n",
       "      <td>32284</td>\n",
       "      <td>БИПЭК АВТО</td>\n",
       "      <td>Skoda</td>\n",
       "      <td>Kodiaq</td>\n",
       "      <td>2018</td>\n",
       "      <td>Республика Казахстан</td>\n",
       "      <td>F</td>\n",
       "      <td>2000.0</td>\n",
       "      <td>7 DSG</td>\n",
       "      <td>Полный</td>\n",
       "      <td>Уральск</td>\n",
       "      <td>NaN</td>\n",
       "      <td>1.0</td>\n",
       "      <td>40000.000000</td>\n",
       "      <td>40000.000000</td>\n",
       "      <td>Западно-Казахстанская область</td>\n",
       "      <td>Внедорожники</td>\n",
       "      <td>Полноразмерные SUV</td>\n",
       "      <td>2019-07-01</td>\n",
       "    </tr>\n",
       "    <tr>\n",
       "      <th>32285</th>\n",
       "      <td>32285</td>\n",
       "      <td>БИПЭК АВТО</td>\n",
       "      <td>Skoda</td>\n",
       "      <td>Kodiaq</td>\n",
       "      <td>2018</td>\n",
       "      <td>Республика Казахстан</td>\n",
       "      <td>F</td>\n",
       "      <td>2000.0</td>\n",
       "      <td>7 DSG</td>\n",
       "      <td>Полный</td>\n",
       "      <td>Астана</td>\n",
       "      <td>NaN</td>\n",
       "      <td>1.0</td>\n",
       "      <td>40000.000000</td>\n",
       "      <td>40000.000000</td>\n",
       "      <td>г.Астана</td>\n",
       "      <td>Внедорожники</td>\n",
       "      <td>Полноразмерные SUV</td>\n",
       "      <td>2019-07-01</td>\n",
       "    </tr>\n",
       "    <tr>\n",
       "      <th>32286</th>\n",
       "      <td>32286</td>\n",
       "      <td>БИПЭК АВТО</td>\n",
       "      <td>Skoda</td>\n",
       "      <td>Kodiaq</td>\n",
       "      <td>2018</td>\n",
       "      <td>Республика Казахстан</td>\n",
       "      <td>F</td>\n",
       "      <td>2000.0</td>\n",
       "      <td>7 DSG</td>\n",
       "      <td>Полный</td>\n",
       "      <td>Алматы</td>\n",
       "      <td>NaN</td>\n",
       "      <td>3.0</td>\n",
       "      <td>40000.000000</td>\n",
       "      <td>120000.000000</td>\n",
       "      <td>г.Алматы</td>\n",
       "      <td>Внедорожники</td>\n",
       "      <td>Полноразмерные SUV</td>\n",
       "      <td>2019-07-01</td>\n",
       "    </tr>\n",
       "    <tr>\n",
       "      <th>32296</th>\n",
       "      <td>32296</td>\n",
       "      <td>Astana Motors</td>\n",
       "      <td>МАЗ</td>\n",
       "      <td>5516Х5</td>\n",
       "      <td>2017</td>\n",
       "      <td>Республика Казахстан</td>\n",
       "      <td>D</td>\n",
       "      <td>14860.0</td>\n",
       "      <td>Механическая</td>\n",
       "      <td>RWD</td>\n",
       "      <td>Алматы</td>\n",
       "      <td>NaN</td>\n",
       "      <td>5.0</td>\n",
       "      <td>54914.285714</td>\n",
       "      <td>274571.428571</td>\n",
       "      <td>г.Алматы</td>\n",
       "      <td>Коммерческие автомобили</td>\n",
       "      <td>Крупнотоннажные грузовики</td>\n",
       "      <td>2019-02-01</td>\n",
       "    </tr>\n",
       "  </tbody>\n",
       "</table>\n",
       "<p>430 rows × 19 columns</p>\n",
       "</div>"
      ],
      "text/plain": [
       "       index        company      brand   model production_year  \\\n",
       "328      328     БИПЭК АВТО  Chevrolet    Aveo            2018   \n",
       "329      329     БИПЭК АВТО  Chevrolet    Aveo            2018   \n",
       "330      330     БИПЭК АВТО  Chevrolet    Aveo            2018   \n",
       "331      331     БИПЭК АВТО  Chevrolet    Aveo            2018   \n",
       "332      332     БИПЭК АВТО  Chevrolet    Aveo            2018   \n",
       "...      ...            ...        ...     ...             ...   \n",
       "32283  32283     БИПЭК АВТО      Skoda  Kodiaq            2018   \n",
       "32284  32284     БИПЭК АВТО      Skoda  Kodiaq            2018   \n",
       "32285  32285     БИПЭК АВТО      Skoda  Kodiaq            2018   \n",
       "32286  32286     БИПЭК АВТО      Skoda  Kodiaq            2018   \n",
       "32296  32296  Astana Motors        МАЗ  5516Х5            2017   \n",
       "\n",
       "          country_of_origin fuel_type  engine_capacity  transmission  \\\n",
       "328    Республика Казахстан         F           1596.0          6 АТ   \n",
       "329    Республика Казахстан         F           1596.0          6 АТ   \n",
       "330    Республика Казахстан         F           1596.0          6 АТ   \n",
       "331    Республика Казахстан         F           1596.0          6 АТ   \n",
       "332    Республика Казахстан         F           1596.0          6 АТ   \n",
       "...                     ...       ...              ...           ...   \n",
       "32283  Республика Казахстан         F           2000.0         7 DSG   \n",
       "32284  Республика Казахстан         F           2000.0         7 DSG   \n",
       "32285  Республика Казахстан         F           2000.0         7 DSG   \n",
       "32286  Республика Казахстан         F           2000.0         7 DSG   \n",
       "32296  Республика Казахстан         D          14860.0  Механическая   \n",
       "\n",
       "      drive_type            region client_type  quantity     price_usd  \\\n",
       "328     Передний           Уральск         NaN       1.0  12100.000000   \n",
       "329     Передний          Павлодар         NaN       1.0  12100.000000   \n",
       "330     Передний            Атырау         NaN       2.0  12100.000000   \n",
       "331     Передний            Астана         NaN       3.0  12100.000000   \n",
       "332     Передний            Алматы         NaN       3.0  12100.000000   \n",
       "...          ...               ...         ...       ...           ...   \n",
       "32283     Полный  Усть-Каменогорск         NaN       2.0  40000.000000   \n",
       "32284     Полный           Уральск         NaN       1.0  40000.000000   \n",
       "32285     Полный            Астана         NaN       1.0  40000.000000   \n",
       "32286     Полный            Алматы         NaN       3.0  40000.000000   \n",
       "32296        RWD            Алматы         NaN       5.0  54914.285714   \n",
       "\n",
       "            sale_usd                        district  \\\n",
       "328     12100.000000   Западно-Казахстанская область   \n",
       "329     12100.000000            Павлодарская область   \n",
       "330     24200.000000              Атырауская область   \n",
       "331     36300.000000                        г.Астана   \n",
       "332     36300.000000                        г.Алматы   \n",
       "...              ...                             ...   \n",
       "32283   80000.000000  Восточно-Казахстанская область   \n",
       "32284   40000.000000   Западно-Казахстанская область   \n",
       "32285   40000.000000                        г.Астана   \n",
       "32286  120000.000000                        г.Алматы   \n",
       "32296  274571.428571                        г.Алматы   \n",
       "\n",
       "                   segment_2013                  class_2013       date  \n",
       "328        Легковые автомобили                     B класс  2019-07-01  \n",
       "329        Легковые автомобили                     B класс  2019-07-01  \n",
       "330        Легковые автомобили                     B класс  2019-07-01  \n",
       "331        Легковые автомобили                     B класс  2019-07-01  \n",
       "332        Легковые автомобили                     B класс  2019-07-01  \n",
       "...                         ...                         ...        ...  \n",
       "32283             Внедорожники          Полноразмерные SUV  2019-07-01  \n",
       "32284             Внедорожники          Полноразмерные SUV  2019-07-01  \n",
       "32285             Внедорожники          Полноразмерные SUV  2019-07-01  \n",
       "32286             Внедорожники          Полноразмерные SUV  2019-07-01  \n",
       "32296  Коммерческие автомобили   Крупнотоннажные грузовики  2019-02-01  \n",
       "\n",
       "[430 rows x 19 columns]"
      ]
     },
     "execution_count": 35,
     "metadata": {},
     "output_type": "execute_result"
    }
   ],
   "source": [
    "data[data['engine_capacity']>20 ]"
   ]
  },
  {
   "cell_type": "markdown",
   "id": "7ac9eea9",
   "metadata": {
    "id": "7ac9eea9"
   },
   "source": [
    "Скорее всего трехзначные значения - неверная единица измерения, необходимо разделить на 1000\n"
   ]
  },
  {
   "cell_type": "code",
   "execution_count": 36,
   "id": "1faf7e96",
   "metadata": {
    "id": "1faf7e96"
   },
   "outputs": [],
   "source": [
    "\n",
    "\n",
    "data.loc[data['engine_capacity']>20, 'engine_capacity' ]/=1000"
   ]
  },
  {
   "cell_type": "code",
   "execution_count": 37,
   "id": "a679e133",
   "metadata": {
    "id": "a679e133",
    "outputId": "8e45c2ba-c1ee-48d8-ea36-4458f6e65b8b"
   },
   "outputs": [
    {
     "data": {
      "text/plain": [
       "array([1.400e+00, 2.000e+00, 3.000e+00, 1.500e+00, 4.400e+00, 6.600e+00,\n",
       "       0.000e+00, 1.800e+00, 1.596e+00, 2.400e+00, 1.700e+00, 6.200e+00,\n",
       "       2.500e+00, 1.600e+00, 3.500e+00, 2.200e+00, 2.700e+00, 2.800e+00,\n",
       "       4.200e+00, 5.000e+00, 3.900e+00, 7.500e+00, 1.100e+01, 3.933e+00,\n",
       "       1.230e+01, 3.700e+00, 5.600e+00, 7.800e+00, 2.900e+00, 5.200e+00,\n",
       "       1.030e+01, 8.700e+00, 1.998e+00, 1.598e+00, 1.248e+00, 2.359e+00,\n",
       "       1.999e+00, 3.800e+00, 1.591e+00, 1.368e+00, 3.342e+00, 3.470e+00,\n",
       "       1.690e+00, 1.774e+00, 4.900e+00, 4.600e+00, 5.700e+00, 1.050e+01,\n",
       "       6.700e+00, 4.000e+00, 5.500e+00, 1.200e+01, 1.200e+00, 3.600e+00,\n",
       "       6.500e+00, 4.500e+00, 1.250e+00, 1.300e+00, 2.000e-03, 1.600e-03,\n",
       "       1.300e+01, 1.600e+01, 2.300e+00, 1.330e+00, 2.693e+00, 2.235e+00,\n",
       "       1.486e+01, 1.480e+01, 1.750e+01, 4.880e+00])"
      ]
     },
     "execution_count": 37,
     "metadata": {},
     "output_type": "execute_result"
    }
   ],
   "source": [
    "data['engine_capacity'].unique()"
   ]
  },
  {
   "cell_type": "code",
   "execution_count": 38,
   "id": "e7934121",
   "metadata": {
    "id": "e7934121",
    "outputId": "382bb08f-6dce-4386-f026-244406cb7d00"
   },
   "outputs": [
    {
     "data": {
      "text/plain": [
       "array(['S-tronic', 'S-Тronic', 'S-Тroic', 'S-troic', 'Steptronic',\n",
       "       'ТipТronic', 'Tiptronic', 'SТepТronic', 'Автомат', 'AT', '6 АТ',\n",
       "       '5 МТ', '6AT', '5MT', '6АТ', '5МТ', 'MT', 'МТ', 'MТ', '6АT', '6MT',\n",
       "       'Powershift S6', 'PowershiftS6', 'PowershifТS6', '6МТ', '6MТ', nan,\n",
       "       'Мех.', 'МКПП', '6 AT', '6 MT', '8АТ', '5AT', '5АТ', '7DCT',\n",
       "       '7 DCT', '7DCТ', 'АТ', 'CVT', 'N', 'CVT(вариатор)', 'CVТ', '6 МТ',\n",
       "       '4АТ', '8 АТ', '8AT', '4 АТ', 'AMT', '4AT', 'АКПП6', 'АКПП4',\n",
       "       '9AT', 'АКПП', 'АКПП8', 'МКПП4', 'МКПП5', 'CVT (вариатор)',\n",
       "       'CVT(вариATор)', 'CVТ(вариатор)', '9АТ', '12AT', '7AT', '7АТ',\n",
       "       '6М/Т', '6M/T', '6M/Т', '0', 'PDK', '8АКПП', '8-ступ АКПП', '8',\n",
       "       ' -', '-', '7 DSG', '7DSG', '6 DSG', '6DSG', 'CVТ(вАриАтор)',\n",
       "       '5MТ', 'АТ (автомат)', '8 AT 4Motion', '8АТ4МoТion', '6A', '5M',\n",
       "       '6-ступАКПП', '6А', 'AT (автомат)', '7DSG4МoТion', '6Aвтомат',\n",
       "       '6Aатомат', '5М', '5-ступМТ', 'АT', 'A/T', '7АT', 'МТ (механика)',\n",
       "       'Механическая'], dtype=object)"
      ]
     },
     "execution_count": 38,
     "metadata": {},
     "output_type": "execute_result"
    }
   ],
   "source": [
    "data['transmission'].unique() #ищем неявные дубли в типе трансмиссии"
   ]
  },
  {
   "cell_type": "code",
   "execution_count": 39,
   "id": "22c60124",
   "metadata": {
    "id": "22c60124"
   },
   "outputs": [],
   "source": [
    "#приведем к единообразию названия трансмиссии\n",
    "def gearbox(x):\n",
    "    if x in ['S-tronic', 'S-Тronic', 'S-Тroic', 'S-troic',\n",
    "             '5 МТ', '5MT', '5M', '5-ступМТ', '5М', '5MT', '5МТ','6МТ', '6MТ', '6 MT', '6 МТ', '6M/T', '6M/Т', '6М/Т',\n",
    "            'МКПП4', 'MT', 'MТ', 'МТ (механика)', 'Механическая', 'Мех.', 'МКПП', 'MT', 'МТ','7DCT', '7 DCT', '7DCТ',\n",
    "             '6MT', 'МКПП5', '5MТ'\n",
    "            ]:\n",
    "        return 'механика'\n",
    "    if x in ['ТipТronic', 'Tiptronic', '8',\n",
    "            'Автомат', 'AT','АТ (автомат)', 'АT',  'АТ (автомат)', 'A/T', 'АКПП', 'AT (автомат)',\n",
    "            '6 АТ','6AT', '6А', '6A','6Aвтомат', '6Aатомат', 'АКПП6', '6АТ', '6AT', '6 AT', '6-ступАКПП',\n",
    "            '5AT', '5АТ','АКПП4', '4АТ', '4 АТ', '7AT', '7АТ', '7АT', 'Steptronic', 'SТepТronic',\n",
    "             '8АТ', '8 АТ', '8 AT 4Motion', '8АТ4МoТion', '8АКПП', '8-ступ АКПП', '8AT', 'АКПП8',\n",
    "             'Powershift S6', 'PowershifТS6', 'PowershiftS6',\n",
    "             'CVT', 'CVT(вариатор)', 'CVТ', 'CVT (вариатор)','CVT(вариATор)', 'CVТ(вариатор)', 'CVТ(вАриАтор)',\n",
    "             '6 DSG', '6DSG', '7 DSG','7DSG' , '7DSG4МoТion', '7AT', '7АТ', '7АT', '6АT', 'АТ', 'AMT', '4AT', '9AT',\n",
    "             '9АТ', '12AT', 'PDK'\n",
    "            ]:\n",
    "        return 'автомат'\n",
    "    if x in ['0', None, ' -', '-', 'N']:\n",
    "        return 'Нет данных'\n",
    "    else: return x\n"
   ]
  },
  {
   "cell_type": "code",
   "execution_count": 40,
   "id": "a110cd0f",
   "metadata": {
    "id": "a110cd0f",
    "outputId": "c7722c73-84d4-44e5-abe8-d3d69bfb2f62"
   },
   "outputs": [
    {
     "data": {
      "text/plain": [
       "array(['механика', 'автомат', nan, 'Нет данных'], dtype=object)"
      ]
     },
     "execution_count": 40,
     "metadata": {},
     "output_type": "execute_result"
    }
   ],
   "source": [
    "data['transmission']= data['transmission'].apply(gearbox)\n",
    "data['transmission'].unique()\n",
    "#data['Коробка передач'].apply(lambda x: x.lower())"
   ]
  },
  {
   "cell_type": "code",
   "execution_count": 41,
   "id": "bee87668",
   "metadata": {
    "id": "bee87668",
    "outputId": "6f2a2658-36d6-4f6a-aaa0-0225e89953b8"
   },
   "outputs": [
    {
     "data": {
      "text/plain": [
       "array([nan, 'FWD', 'передний', 'quattro', 'Quattro', 'RWD', '4WD',\n",
       "       'Полный', 'Задний', 'AWD', 'Передний', '4х2.2', 'Полный ',\n",
       "       'задний', '2WD', '2 WD', '4 WD', '4х4', '4х2', '4x2', 'FR', '2х4',\n",
       "       '4x4', 'CVT', '0', ' -', '-', 'P/TIME', 'FF', 'полный', '4Motion',\n",
       "       'передний '], dtype=object)"
      ]
     },
     "execution_count": 41,
     "metadata": {},
     "output_type": "execute_result"
    }
   ],
   "source": [
    "data['drive_type'].unique()"
   ]
  },
  {
   "cell_type": "markdown",
   "id": "e260b5aa",
   "metadata": {
    "id": "e260b5aa"
   },
   "source": [
    "Тут затесалось название для коробки передач - 'CVT'"
   ]
  },
  {
   "cell_type": "code",
   "execution_count": 42,
   "id": "92ad0456",
   "metadata": {
    "id": "92ad0456",
    "outputId": "7ec3dd1d-225b-4359-bf77-ddc576a5a12b"
   },
   "outputs": [
    {
     "data": {
      "text/html": [
       "<div>\n",
       "<style scoped>\n",
       "    .dataframe tbody tr th:only-of-type {\n",
       "        vertical-align: middle;\n",
       "    }\n",
       "\n",
       "    .dataframe tbody tr th {\n",
       "        vertical-align: top;\n",
       "    }\n",
       "\n",
       "    .dataframe thead th {\n",
       "        text-align: right;\n",
       "    }\n",
       "</style>\n",
       "<table border=\"1\" class=\"dataframe\">\n",
       "  <thead>\n",
       "    <tr style=\"text-align: right;\">\n",
       "      <th></th>\n",
       "      <th>index</th>\n",
       "      <th>company</th>\n",
       "      <th>brand</th>\n",
       "      <th>model</th>\n",
       "      <th>production_year</th>\n",
       "      <th>country_of_origin</th>\n",
       "      <th>fuel_type</th>\n",
       "      <th>engine_capacity</th>\n",
       "      <th>transmission</th>\n",
       "      <th>drive_type</th>\n",
       "      <th>region</th>\n",
       "      <th>client_type</th>\n",
       "      <th>quantity</th>\n",
       "      <th>price_usd</th>\n",
       "      <th>sale_usd</th>\n",
       "      <th>district</th>\n",
       "      <th>segment_2013</th>\n",
       "      <th>class_2013</th>\n",
       "      <th>date</th>\n",
       "    </tr>\n",
       "  </thead>\n",
       "  <tbody>\n",
       "    <tr>\n",
       "      <th>15895</th>\n",
       "      <td>15895</td>\n",
       "      <td>ММС Рус</td>\n",
       "      <td>Mitsubishi</td>\n",
       "      <td>Outlander</td>\n",
       "      <td>2018</td>\n",
       "      <td>Российская Федерация</td>\n",
       "      <td>F</td>\n",
       "      <td>2.0</td>\n",
       "      <td>автомат</td>\n",
       "      <td>CVT</td>\n",
       "      <td>Астана</td>\n",
       "      <td>NaN</td>\n",
       "      <td>1.0</td>\n",
       "      <td>29641.642032</td>\n",
       "      <td>29641.642032</td>\n",
       "      <td>г.Астана</td>\n",
       "      <td>Внедорожники</td>\n",
       "      <td>Среднеразмерные SUV</td>\n",
       "      <td>2019-05-01</td>\n",
       "    </tr>\n",
       "    <tr>\n",
       "      <th>15896</th>\n",
       "      <td>15896</td>\n",
       "      <td>ММС Рус</td>\n",
       "      <td>Mitsubishi</td>\n",
       "      <td>Outlander</td>\n",
       "      <td>2018</td>\n",
       "      <td>Российская Федерация</td>\n",
       "      <td>F</td>\n",
       "      <td>2.0</td>\n",
       "      <td>автомат</td>\n",
       "      <td>CVT</td>\n",
       "      <td>Астана</td>\n",
       "      <td>NaN</td>\n",
       "      <td>1.0</td>\n",
       "      <td>29809.666900</td>\n",
       "      <td>29809.666900</td>\n",
       "      <td>г.Астана</td>\n",
       "      <td>Внедорожники</td>\n",
       "      <td>Среднеразмерные SUV</td>\n",
       "      <td>2019-05-01</td>\n",
       "    </tr>\n",
       "  </tbody>\n",
       "</table>\n",
       "</div>"
      ],
      "text/plain": [
       "       index  company       brand      model production_year  \\\n",
       "15895  15895  ММС Рус  Mitsubishi  Outlander            2018   \n",
       "15896  15896  ММС Рус  Mitsubishi  Outlander            2018   \n",
       "\n",
       "          country_of_origin fuel_type  engine_capacity transmission  \\\n",
       "15895  Российская Федерация         F              2.0      автомат   \n",
       "15896  Российская Федерация         F              2.0      автомат   \n",
       "\n",
       "      drive_type  region client_type  quantity     price_usd      sale_usd  \\\n",
       "15895        CVT  Астана         NaN       1.0  29641.642032  29641.642032   \n",
       "15896        CVT  Астана         NaN       1.0  29809.666900  29809.666900   \n",
       "\n",
       "       district   segment_2013            class_2013       date  \n",
       "15895  г.Астана  Внедорожники   Среднеразмерные SUV  2019-05-01  \n",
       "15896  г.Астана  Внедорожники   Среднеразмерные SUV  2019-05-01  "
      ]
     },
     "execution_count": 42,
     "metadata": {},
     "output_type": "execute_result"
    }
   ],
   "source": [
    "data[data['drive_type'] =='CVT']"
   ]
  },
  {
   "cell_type": "markdown",
   "id": "40ad581c",
   "metadata": {
    "id": "40ad581c"
   },
   "source": [
    "Всего две строки, и дублируются значения в столбцах с коробкой передач и типом привода. Можно тип привода поставить \"нет данных\""
   ]
  },
  {
   "cell_type": "code",
   "execution_count": 43,
   "id": "aa584a16",
   "metadata": {
    "id": "aa584a16",
    "outputId": "2c700e86-b355-47aa-e1b1-c20bf7ec5a05"
   },
   "outputs": [
    {
     "data": {
      "text/plain": [
       "array([None, 'FWD', '4WD', 'RWD', '2WD', 'нет данных'], dtype=object)"
      ]
     },
     "execution_count": 43,
     "metadata": {},
     "output_type": "execute_result"
    }
   ],
   "source": [
    "def drive_type(name):\n",
    "    if name in ['4WD', 'Quattro', 'Quattro','Полный ', 'Полный', 'полный','AWD', '4 WD', '4Motion']:\n",
    "        return '4WD'  #полный привод\n",
    "    if name in ['передний', 'FWD', 'Передний', 'Передний (FF)', 'FF']:\n",
    "        return 'FWD' #передний привод\n",
    "    if name in ['Задний', 'RWD', 'FR', 'задний']:\n",
    "        return 'RWD' #задний привод\n",
    "    if name in ['4х2.2', '2 WD', '2WD', '4X2', 'P/TIME']:\n",
    "        return '2WD' #сложно определить, какой привод\n",
    "    if name in [' -', '-', None, '0', 'нет данных']:\n",
    "        return 'нет данных'\n",
    "data['drive_type'] = data['drive_type'].apply(drive_type)\n",
    "data['drive_type'].unique()"
   ]
  },
  {
   "cell_type": "code",
   "execution_count": 44,
   "id": "84e6613c",
   "metadata": {
    "id": "84e6613c",
    "outputId": "180a0314-223a-42c7-aeba-77ef2a86dc74"
   },
   "outputs": [
    {
     "data": {
      "text/plain": [
       "array(['Алматы', 'Костанай', 'Атырау', 'Астана', 'Уральск',\n",
       "       'Усть-Каменогорск', 'Петропавловск', 'Павлодар', 'Кокшетау',\n",
       "       'Актау', 'Семей', 'Караганда', 'Актобе', 'Шымкент', 'Талдыкорган',\n",
       "       'Кызылорда', 'Экибастуз', 'Рудный', 'Тараз', 'Аксай', 'Щучинск',\n",
       "       'ЭКСПОРТ', 'Риддер', 'Шемонаиха'], dtype=object)"
      ]
     },
     "execution_count": 44,
     "metadata": {},
     "output_type": "execute_result"
    }
   ],
   "source": [
    "data['region'].unique()"
   ]
  },
  {
   "cell_type": "code",
   "execution_count": 45,
   "id": "f73599a9",
   "metadata": {
    "id": "f73599a9",
    "outputId": "2ddd5cd7-012b-4dc5-b899-4a5072c5a878"
   },
   "outputs": [
    {
     "data": {
      "text/plain": [
       "array(['Физ. Лицо', 'Юр. Лицо', nan, ' '], dtype=object)"
      ]
     },
     "execution_count": 45,
     "metadata": {},
     "output_type": "execute_result"
    }
   ],
   "source": [
    "data['client_type'].unique()"
   ]
  },
  {
   "cell_type": "code",
   "execution_count": 46,
   "id": "108c00dd",
   "metadata": {
    "id": "108c00dd"
   },
   "outputs": [],
   "source": [
    "#data[data['client_type'] == ' ', 'client_type'] = None"
   ]
  },
  {
   "cell_type": "code",
   "execution_count": 47,
   "id": "f2e85f32",
   "metadata": {
    "id": "f2e85f32",
    "outputId": "8adb2477-6803-4213-d224-8b10a6c7477a"
   },
   "outputs": [
    {
     "data": {
      "text/plain": [
       "array([ 1.,  3.,  2.,  4.,  5.,  6.,  7.,  8., 11.,  9., 10., 20., 12.,\n",
       "       37., 40., 17., 15., 24., 26., 13., nan, 19., 14., 25., 16., 22.,\n",
       "       18., 30., 21., 31., 46., 23., 29., 41., 33., 56., 28., 35., 36.,\n",
       "       39., 34., 27., 38., 32., 91.])"
      ]
     },
     "execution_count": 47,
     "metadata": {},
     "output_type": "execute_result"
    }
   ],
   "source": [
    "data['quantity'].unique()"
   ]
  },
  {
   "cell_type": "markdown",
   "id": "dbec4a9c",
   "metadata": {
    "id": "dbec4a9c"
   },
   "source": [
    "Есть продажи более 10 шт одной модели - скорее всего опт"
   ]
  },
  {
   "cell_type": "code",
   "execution_count": 48,
   "id": "28a056dd",
   "metadata": {
    "id": "28a056dd",
    "outputId": "886eeddc-796d-454f-e61b-db4bd98c717d"
   },
   "outputs": [
    {
     "data": {
      "text/plain": [
       "array(['Легковые автомобили ', 'Внедорожники ',\n",
       "       'Коммерческие автомобили ', 'Минивэны', 'Пикапы '], dtype=object)"
      ]
     },
     "execution_count": 48,
     "metadata": {},
     "output_type": "execute_result"
    }
   ],
   "source": [
    "data['segment_2013'].unique()"
   ]
  },
  {
   "cell_type": "code",
   "execution_count": 49,
   "id": "a9bcac76",
   "metadata": {
    "id": "a9bcac76",
    "outputId": "83261b10-20d8-4f58-c3b5-e4b87d7e66a8"
   },
   "outputs": [
    {
     "data": {
      "text/plain": [
       "array(['г.Алматы', 'Костанайская область', 'Атырауская область',\n",
       "       'г.Астана', 'Западно-Казахстанская область',\n",
       "       'Восточно-Казахстанская область', 'Северо-Казахстанская область',\n",
       "       'Павлодарская область', 'Акмолинская область',\n",
       "       'Мангистауская область', 'Карагандинская область',\n",
       "       'Актюбинская область', 'Южно-Казахстанская область',\n",
       "       'Алматинская область', 'Кызылординская область',\n",
       "       'Жамбылская область', 'Экспорт область'], dtype=object)"
      ]
     },
     "execution_count": 49,
     "metadata": {},
     "output_type": "execute_result"
    }
   ],
   "source": [
    "data['district'].unique()"
   ]
  },
  {
   "cell_type": "code",
   "execution_count": 50,
   "id": "81cfd37c",
   "metadata": {
    "id": "81cfd37c",
    "outputId": "16491c88-4278-457b-9094-76e7e64b6b86"
   },
   "outputs": [
    {
     "data": {
      "text/plain": [
       "array(['Германия', 'США', 'Республика Казахстан', 'Российская Федерация',\n",
       "       'Белоруссия', 'Турция', 'Япония', 'Корея', 'Вьетнам', 'UK',\n",
       "       'Таиланд', 'Узбекистан', 'Венгрия', 'Австрия', 'Нидерланды',\n",
       "       'Швеция'], dtype=object)"
      ]
     },
     "execution_count": 50,
     "metadata": {},
     "output_type": "execute_result"
    }
   ],
   "source": [
    "data['country_of_origin'].unique()"
   ]
  },
  {
   "cell_type": "code",
   "execution_count": 51,
   "id": "181e560c",
   "metadata": {
    "id": "181e560c",
    "outputId": "d0d642aa-38c5-40dd-b8ee-631759a7fd94"
   },
   "outputs": [
    {
     "data": {
      "text/plain": [
       "array(['DEU', 'USA', 'KAZ', 'RUS', 'BLR', 'TUR', 'JPN', 'KOR', 'VNM',\n",
       "       'GBR', 'THA', 'UZB', 'HUN', 'AUT', 'NLD', 'SWE'], dtype=object)"
      ]
     },
     "execution_count": 51,
     "metadata": {},
     "output_type": "execute_result"
    }
   ],
   "source": [
    "# переведем названия стран в alpha3\n",
    "\n",
    "def country_code(name):\n",
    "    if name == 'Германия':\n",
    "        return 'DEU'\n",
    "    if name == 'США':\n",
    "        return 'USA'\n",
    "    if name == 'Республика Казахстан':\n",
    "        return 'KAZ'\n",
    "    if name == 'Российская Федерация':\n",
    "        return 'RUS'\n",
    "    if name == 'Белоруссия':\n",
    "        return 'BLR'\n",
    "    if name == 'Турция':\n",
    "        return 'TUR'\n",
    "    if name == 'Япония':\n",
    "        return 'JPN'\n",
    "    if name == 'Корея':\n",
    "        return 'KOR'\n",
    "    if name == 'Вьетнам':\n",
    "        return 'VNM'\n",
    "    if name == 'UK':\n",
    "        return 'GBR'\n",
    "    if name == 'Таиланд':\n",
    "        return 'THA'\n",
    "    if name == 'Узбекистан':\n",
    "        return 'UZB'\n",
    "    if name == 'Венгрия':\n",
    "        return 'HUN'\n",
    "    if name == 'Австрия':\n",
    "        return 'AUT'\n",
    "    if name == 'Нидерланды':\n",
    "        return 'NLD'\n",
    "    if name == 'Швеция':\n",
    "        return 'SWE'\n",
    "\n",
    "data['country_of_origin'] =  data['country_of_origin'].apply(country_code)\n",
    "data['country_of_origin'].unique()"
   ]
  },
  {
   "cell_type": "markdown",
   "id": "7facb64f",
   "metadata": {
    "id": "7facb64f"
   },
   "source": [
    "Среди классов авто дублей не наблюдается, но классификация довольно подробная (несколько классов легковых машин, грузовых, автобусов и тд). Пока оставляем так"
   ]
  },
  {
   "cell_type": "markdown",
   "id": "4515e5e6",
   "metadata": {
    "id": "4515e5e6"
   },
   "source": [
    "### Анализ рынка"
   ]
  },
  {
   "cell_type": "code",
   "execution_count": 53,
   "id": "228b51eb",
   "metadata": {
    "id": "228b51eb"
   },
   "outputs": [],
   "source": [
    "import matplotlib.pyplot as plt # импортируем библиотеки для графиков\n",
    "import seaborn as sns"
   ]
  },
  {
   "cell_type": "code",
   "execution_count": 54,
   "id": "8da57db8",
   "metadata": {
    "id": "8da57db8",
    "outputId": "f957d753-58db-487c-fdcd-c1c5044adb64"
   },
   "outputs": [
    {
     "data": {
      "text/html": [
       "<div>\n",
       "<style scoped>\n",
       "    .dataframe tbody tr th:only-of-type {\n",
       "        vertical-align: middle;\n",
       "    }\n",
       "\n",
       "    .dataframe tbody tr th {\n",
       "        vertical-align: top;\n",
       "    }\n",
       "\n",
       "    .dataframe thead th {\n",
       "        text-align: right;\n",
       "    }\n",
       "</style>\n",
       "<table border=\"1\" class=\"dataframe\">\n",
       "  <thead>\n",
       "    <tr style=\"text-align: right;\">\n",
       "      <th></th>\n",
       "      <th>brand</th>\n",
       "      <th>quantity</th>\n",
       "      <th>percent, %</th>\n",
       "    </tr>\n",
       "  </thead>\n",
       "  <tbody>\n",
       "    <tr>\n",
       "      <th>0</th>\n",
       "      <td>Lada</td>\n",
       "      <td>9667.0</td>\n",
       "      <td>22.18</td>\n",
       "    </tr>\n",
       "    <tr>\n",
       "      <th>1</th>\n",
       "      <td>Toyota</td>\n",
       "      <td>9374.0</td>\n",
       "      <td>21.50</td>\n",
       "    </tr>\n",
       "    <tr>\n",
       "      <th>2</th>\n",
       "      <td>Hyundai</td>\n",
       "      <td>5703.0</td>\n",
       "      <td>13.08</td>\n",
       "    </tr>\n",
       "    <tr>\n",
       "      <th>3</th>\n",
       "      <td>GAZ</td>\n",
       "      <td>2111.0</td>\n",
       "      <td>4.84</td>\n",
       "    </tr>\n",
       "    <tr>\n",
       "      <th>4</th>\n",
       "      <td>Kia</td>\n",
       "      <td>1815.0</td>\n",
       "      <td>4.16</td>\n",
       "    </tr>\n",
       "    <tr>\n",
       "      <th>5</th>\n",
       "      <td>Ravon</td>\n",
       "      <td>1727.0</td>\n",
       "      <td>3.96</td>\n",
       "    </tr>\n",
       "    <tr>\n",
       "      <th>6</th>\n",
       "      <td>Nissan</td>\n",
       "      <td>1662.0</td>\n",
       "      <td>3.81</td>\n",
       "    </tr>\n",
       "    <tr>\n",
       "      <th>7</th>\n",
       "      <td>Renault</td>\n",
       "      <td>1335.0</td>\n",
       "      <td>3.06</td>\n",
       "    </tr>\n",
       "    <tr>\n",
       "      <th>8</th>\n",
       "      <td>UAZ</td>\n",
       "      <td>1085.0</td>\n",
       "      <td>2.49</td>\n",
       "    </tr>\n",
       "    <tr>\n",
       "      <th>9</th>\n",
       "      <td>Lexus</td>\n",
       "      <td>1068.0</td>\n",
       "      <td>2.45</td>\n",
       "    </tr>\n",
       "  </tbody>\n",
       "</table>\n",
       "</div>"
      ],
      "text/plain": [
       "     brand  quantity  percent, %\n",
       "0     Lada    9667.0       22.18\n",
       "1   Toyota    9374.0       21.50\n",
       "2  Hyundai    5703.0       13.08\n",
       "3      GAZ    2111.0        4.84\n",
       "4      Kia    1815.0        4.16\n",
       "5    Ravon    1727.0        3.96\n",
       "6   Nissan    1662.0        3.81\n",
       "7  Renault    1335.0        3.06\n",
       "8      UAZ    1085.0        2.49\n",
       "9    Lexus    1068.0        2.45"
      ]
     },
     "execution_count": 54,
     "metadata": {},
     "output_type": "execute_result"
    }
   ],
   "source": [
    "#делаем таблицу с самыми продаваемыми моделями авто по количеству\n",
    "brand = data.groupby('brand')['quantity'].sum().sort_values(ascending = False).reset_index()\n",
    "\n",
    "\n",
    "brand['percent, %'] =round(brand['quantity']/brand['quantity'].sum()*100,2)\n",
    "brand.head(10)"
   ]
  },
  {
   "cell_type": "markdown",
   "id": "0ea7556b",
   "metadata": {
    "id": "0ea7556b"
   },
   "source": [
    "В топе - российская LADA (22.18%), японская Toyota(21.50%) и корейский Hyundai\t(13,08%)"
   ]
  },
  {
   "cell_type": "code",
   "execution_count": 55,
   "id": "e92d6396",
   "metadata": {
    "id": "e92d6396",
    "outputId": "7ddfb69c-d6f3-4443-de24-e8525ea955c0"
   },
   "outputs": [
    {
     "data": {
      "text/html": [
       "<div>\n",
       "<style scoped>\n",
       "    .dataframe tbody tr th:only-of-type {\n",
       "        vertical-align: middle;\n",
       "    }\n",
       "\n",
       "    .dataframe tbody tr th {\n",
       "        vertical-align: top;\n",
       "    }\n",
       "\n",
       "    .dataframe thead th {\n",
       "        text-align: right;\n",
       "    }\n",
       "</style>\n",
       "<table border=\"1\" class=\"dataframe\">\n",
       "  <thead>\n",
       "    <tr style=\"text-align: right;\">\n",
       "      <th></th>\n",
       "      <th>brand</th>\n",
       "      <th>sale_usd</th>\n",
       "      <th>percent, %</th>\n",
       "    </tr>\n",
       "  </thead>\n",
       "  <tbody>\n",
       "    <tr>\n",
       "      <th>0</th>\n",
       "      <td>Toyota</td>\n",
       "      <td>3.838752e+08</td>\n",
       "      <td>33.41</td>\n",
       "    </tr>\n",
       "    <tr>\n",
       "      <th>1</th>\n",
       "      <td>Hyundai</td>\n",
       "      <td>1.248472e+08</td>\n",
       "      <td>10.87</td>\n",
       "    </tr>\n",
       "    <tr>\n",
       "      <th>2</th>\n",
       "      <td>Lada</td>\n",
       "      <td>9.426212e+07</td>\n",
       "      <td>8.20</td>\n",
       "    </tr>\n",
       "    <tr>\n",
       "      <th>3</th>\n",
       "      <td>Lexus</td>\n",
       "      <td>8.475846e+07</td>\n",
       "      <td>7.38</td>\n",
       "    </tr>\n",
       "    <tr>\n",
       "      <th>4</th>\n",
       "      <td>KAMAZ</td>\n",
       "      <td>4.866654e+07</td>\n",
       "      <td>4.24</td>\n",
       "    </tr>\n",
       "    <tr>\n",
       "      <th>5</th>\n",
       "      <td>GAZ</td>\n",
       "      <td>4.042060e+07</td>\n",
       "      <td>3.52</td>\n",
       "    </tr>\n",
       "    <tr>\n",
       "      <th>6</th>\n",
       "      <td>Nissan</td>\n",
       "      <td>3.722182e+07</td>\n",
       "      <td>3.24</td>\n",
       "    </tr>\n",
       "    <tr>\n",
       "      <th>7</th>\n",
       "      <td>Kia</td>\n",
       "      <td>3.675090e+07</td>\n",
       "      <td>3.20</td>\n",
       "    </tr>\n",
       "    <tr>\n",
       "      <th>8</th>\n",
       "      <td>BMW</td>\n",
       "      <td>2.336137e+07</td>\n",
       "      <td>2.03</td>\n",
       "    </tr>\n",
       "    <tr>\n",
       "      <th>9</th>\n",
       "      <td>Renault</td>\n",
       "      <td>1.865479e+07</td>\n",
       "      <td>1.62</td>\n",
       "    </tr>\n",
       "  </tbody>\n",
       "</table>\n",
       "</div>"
      ],
      "text/plain": [
       "     brand      sale_usd  percent, %\n",
       "0   Toyota  3.838752e+08       33.41\n",
       "1  Hyundai  1.248472e+08       10.87\n",
       "2     Lada  9.426212e+07        8.20\n",
       "3    Lexus  8.475846e+07        7.38\n",
       "4    KAMAZ  4.866654e+07        4.24\n",
       "5      GAZ  4.042060e+07        3.52\n",
       "6   Nissan  3.722182e+07        3.24\n",
       "7      Kia  3.675090e+07        3.20\n",
       "8      BMW  2.336137e+07        2.03\n",
       "9  Renault  1.865479e+07        1.62"
      ]
     },
     "execution_count": 55,
     "metadata": {},
     "output_type": "execute_result"
    }
   ],
   "source": [
    "#делаем таблицу с самыми продаваемыми марками авто по выручке\n",
    "brand = data.groupby('brand')['sale_usd'].sum().sort_values(ascending = False).reset_index()\n",
    "\n",
    "\n",
    "brand['percent, %'] =round(brand['sale_usd']/brand['sale_usd'].sum()*100,2)\n",
    "brand.head(10)"
   ]
  },
  {
   "cell_type": "markdown",
   "id": "c980db45",
   "metadata": {
    "id": "c980db45"
   },
   "source": [
    "На первом месте по выручке - Toyota и Huyndai. Это логично, так как стоимость иномарок, как правило, выше. Доля марки Lada уже всего 8% от общей выручки"
   ]
  },
  {
   "cell_type": "markdown",
   "id": "40ee1978",
   "metadata": {
    "id": "40ee1978"
   },
   "source": [
    "Многие автомобили зарубежных брендов производятся в Казахстане и России, поэтому сделаем срез по стране производства"
   ]
  },
  {
   "cell_type": "code",
   "execution_count": 56,
   "id": "2548c9a7",
   "metadata": {
    "id": "2548c9a7",
    "outputId": "536d95e7-8f14-40af-de5a-44f7a38561d9"
   },
   "outputs": [
    {
     "data": {
      "text/plain": [
       "<AxesSubplot: >"
      ]
     },
     "execution_count": 56,
     "metadata": {},
     "output_type": "execute_result"
    },
    {
     "data": {
      "image/png": "[encoded data removed]",
      "text/plain": [
       "<Figure size 360x288 with 1 Axes>"
      ]
     },
     "metadata": {
      "needs_background": "light"
     },
     "output_type": "display_data"
    }
   ],
   "source": [
    "\n",
    "data[(data['brand'] == 'Toyota') | (data['brand'] == 'Hyundai')] ['country_of_origin'].hist(figsize = (5,4\n",
    "                                                                                                    ))"
   ]
  },
  {
   "cell_type": "code",
   "execution_count": 57,
   "id": "0aa16a51",
   "metadata": {
    "id": "0aa16a51",
    "outputId": "1cd8eefe-85bc-473c-89bf-1d6546e24696"
   },
   "outputs": [
    {
     "data": {
      "text/html": [
       "<div>\n",
       "<style scoped>\n",
       "    .dataframe tbody tr th:only-of-type {\n",
       "        vertical-align: middle;\n",
       "    }\n",
       "\n",
       "    .dataframe tbody tr th {\n",
       "        vertical-align: top;\n",
       "    }\n",
       "\n",
       "    .dataframe thead th {\n",
       "        text-align: right;\n",
       "    }\n",
       "</style>\n",
       "<table border=\"1\" class=\"dataframe\">\n",
       "  <thead>\n",
       "    <tr style=\"text-align: right;\">\n",
       "      <th></th>\n",
       "      <th>country_of_origin</th>\n",
       "      <th>index</th>\n",
       "      <th>percent,%</th>\n",
       "    </tr>\n",
       "  </thead>\n",
       "  <tbody>\n",
       "    <tr>\n",
       "      <th>0</th>\n",
       "      <td>RUS</td>\n",
       "      <td>12082</td>\n",
       "      <td>36.952532</td>\n",
       "    </tr>\n",
       "    <tr>\n",
       "      <th>1</th>\n",
       "      <td>KAZ</td>\n",
       "      <td>11518</td>\n",
       "      <td>35.227551</td>\n",
       "    </tr>\n",
       "    <tr>\n",
       "      <th>2</th>\n",
       "      <td>JPN</td>\n",
       "      <td>4980</td>\n",
       "      <td>15.231221</td>\n",
       "    </tr>\n",
       "    <tr>\n",
       "      <th>3</th>\n",
       "      <td>TUR</td>\n",
       "      <td>1214</td>\n",
       "      <td>3.712992</td>\n",
       "    </tr>\n",
       "    <tr>\n",
       "      <th>4</th>\n",
       "      <td>UZB</td>\n",
       "      <td>1177</td>\n",
       "      <td>3.599829</td>\n",
       "    </tr>\n",
       "    <tr>\n",
       "      <th>5</th>\n",
       "      <td>THA</td>\n",
       "      <td>878</td>\n",
       "      <td>2.685344</td>\n",
       "    </tr>\n",
       "    <tr>\n",
       "      <th>6</th>\n",
       "      <td>DEU</td>\n",
       "      <td>349</td>\n",
       "      <td>1.067409</td>\n",
       "    </tr>\n",
       "    <tr>\n",
       "      <th>7</th>\n",
       "      <td>GBR</td>\n",
       "      <td>233</td>\n",
       "      <td>0.712625</td>\n",
       "    </tr>\n",
       "    <tr>\n",
       "      <th>8</th>\n",
       "      <td>USA</td>\n",
       "      <td>188</td>\n",
       "      <td>0.574994</td>\n",
       "    </tr>\n",
       "    <tr>\n",
       "      <th>9</th>\n",
       "      <td>SWE</td>\n",
       "      <td>22</td>\n",
       "      <td>0.067287</td>\n",
       "    </tr>\n",
       "    <tr>\n",
       "      <th>10</th>\n",
       "      <td>BLR</td>\n",
       "      <td>18</td>\n",
       "      <td>0.055053</td>\n",
       "    </tr>\n",
       "    <tr>\n",
       "      <th>11</th>\n",
       "      <td>NLD</td>\n",
       "      <td>17</td>\n",
       "      <td>0.051994</td>\n",
       "    </tr>\n",
       "    <tr>\n",
       "      <th>12</th>\n",
       "      <td>KOR</td>\n",
       "      <td>12</td>\n",
       "      <td>0.036702</td>\n",
       "    </tr>\n",
       "    <tr>\n",
       "      <th>13</th>\n",
       "      <td>AUT</td>\n",
       "      <td>5</td>\n",
       "      <td>0.015292</td>\n",
       "    </tr>\n",
       "    <tr>\n",
       "      <th>14</th>\n",
       "      <td>HUN</td>\n",
       "      <td>2</td>\n",
       "      <td>0.006117</td>\n",
       "    </tr>\n",
       "    <tr>\n",
       "      <th>15</th>\n",
       "      <td>VNM</td>\n",
       "      <td>1</td>\n",
       "      <td>0.003058</td>\n",
       "    </tr>\n",
       "  </tbody>\n",
       "</table>\n",
       "</div>"
      ],
      "text/plain": [
       "   country_of_origin  index  percent,%\n",
       "0                RUS  12082  36.952532\n",
       "1                KAZ  11518  35.227551\n",
       "2                JPN   4980  15.231221\n",
       "3                TUR   1214   3.712992\n",
       "4                UZB   1177   3.599829\n",
       "5                THA    878   2.685344\n",
       "6                DEU    349   1.067409\n",
       "7                GBR    233   0.712625\n",
       "8                USA    188   0.574994\n",
       "9                SWE     22   0.067287\n",
       "10               BLR     18   0.055053\n",
       "11               NLD     17   0.051994\n",
       "12               KOR     12   0.036702\n",
       "13               AUT      5   0.015292\n",
       "14               HUN      2   0.006117\n",
       "15               VNM      1   0.003058"
      ]
     },
     "execution_count": 57,
     "metadata": {},
     "output_type": "execute_result"
    }
   ],
   "source": [
    "country = data.groupby('country_of_origin')['index'].count().sort_values( ascending = False).reset_index()\n",
    "country['percent,%'] = country['index'] / country['index'].sum()*100\n",
    "country"
   ]
  },
  {
   "cell_type": "markdown",
   "id": "9ac489e0",
   "metadata": {
    "id": "9ac489e0"
   },
   "source": [
    "Более 70% проданных автомобилей произведены в России и Казахстане"
   ]
  },
  {
   "cell_type": "code",
   "execution_count": 58,
   "id": "ddc4fa3f",
   "metadata": {
    "id": "ddc4fa3f",
    "outputId": "cb554695-c030-4570-b916-3501fc81dd07"
   },
   "outputs": [
    {
     "data": {
      "text/plain": [
       "1148.8723748687912"
      ]
     },
     "execution_count": 58,
     "metadata": {},
     "output_type": "execute_result"
    }
   ],
   "source": [
    "data['sale_usd'].sum()/ 1000000 # смотрим сумму продаж в миллионах долларов"
   ]
  },
  {
   "cell_type": "code",
   "execution_count": 59,
   "id": "4c12fac2",
   "metadata": {
    "id": "4c12fac2",
    "outputId": "aac73c53-8984-4e08-9b69-b484744b9766"
   },
   "outputs": [
    {
     "data": {
      "text/plain": [
       "43593.0"
      ]
     },
     "execution_count": 59,
     "metadata": {},
     "output_type": "execute_result"
    }
   ],
   "source": [
    "data['quantity'].sum()"
   ]
  },
  {
   "cell_type": "markdown",
   "id": "1f766ae4",
   "metadata": {
    "id": "1f766ae4"
   },
   "source": [
    "Общие продажи за 2019 год составили 1148,9 млн долларов США. Всего продано 43593 автомобиля\n"
   ]
  },
  {
   "cell_type": "code",
   "execution_count": 60,
   "id": "16687212",
   "metadata": {
    "id": "16687212",
    "outputId": "479fb16f-293f-4847-c88a-3d7e8b3145af"
   },
   "outputs": [
    {
     "data": {
      "text/plain": [
       "Text(0, 0.5, 'Выручка')"
      ]
     },
     "execution_count": 60,
     "metadata": {},
     "output_type": "execute_result"
    },
    {
     "data": {
      "image/png": "[encoded data removed]",
      "text/plain": [
       "<Figure size 504x216 with 1 Axes>"
      ]
     },
     "metadata": {
      "needs_background": "light"
     },
     "output_type": "display_data"
    }
   ],
   "source": [
    "#строим график динамики продаж в денежном выражении\n",
    "month_sales_usd=data.groupby('date')['sale_usd'].sum().reset_index()\n",
    "plt.figure(figsize=(7, 3))\n",
    "sns.lineplot(x='date', y='sale_usd',  data=month_sales_usd)\n",
    "#month_sales\n",
    "\n",
    "plt.title('Динамика продаж по месяцам в денежном выражении')\n",
    "plt.xlabel('Месяц')\n",
    "plt.ylabel('Выручка')"
   ]
  },
  {
   "cell_type": "code",
   "execution_count": 61,
   "id": "ec242855",
   "metadata": {
    "id": "ec242855",
    "outputId": "42a93bb6-72f5-4ea7-f288-01b499bf30c2"
   },
   "outputs": [
    {
     "data": {
      "text/plain": [
       "Text(0, 0.5, 'Количество, шт')"
      ]
     },
     "execution_count": 61,
     "metadata": {},
     "output_type": "execute_result"
    },
    {
     "data": {
      "image/png": "[encoded data removed]",
      "text/plain": [
       "<Figure size 504x216 with 1 Axes>"
      ]
     },
     "metadata": {
      "needs_background": "light"
     },
     "output_type": "display_data"
    }
   ],
   "source": [
    "#строим график динамики продаж в количественном выражении выражении\n",
    "month_sales=data.groupby('date')['quantity'].sum().reset_index()\n",
    "plt.figure(figsize=(7, 3))\n",
    "sns.lineplot(x='date', y='quantity',  data=month_sales)\n",
    "#month_sales\n",
    "\n",
    "plt.title('Динамика продаж по месяцам в количественном выражении выражении')\n",
    "plt.xlabel('Месяц')\n",
    "plt.ylabel('Количество, шт')"
   ]
  },
  {
   "cell_type": "markdown",
   "id": "3a0517b4",
   "metadata": {
    "id": "3a0517b4"
   },
   "source": [
    "В течение года продажи росли в денежном и числовом выражении, был небольшой спад в летнее время"
   ]
  },
  {
   "cell_type": "code",
   "execution_count": 62,
   "id": "73ee4e14",
   "metadata": {
    "id": "73ee4e14",
    "outputId": "67631987-45ed-4b79-d856-a37da076f4fc"
   },
   "outputs": [
    {
     "data": {
      "text/plain": [
       "Text(0, 0.5, 'Количество, шт')"
      ]
     },
     "execution_count": 62,
     "metadata": {},
     "output_type": "execute_result"
    },
    {
     "data": {
      "image/png": "[encoded data removed]",
      "text/plain": [
       "<Figure size 504x216 with 1 Axes>"
      ]
     },
     "metadata": {
      "needs_background": "light"
     },
     "output_type": "display_data"
    }
   ],
   "source": [
    "#строим график динамики продаж в зависимости от типа топлива\n",
    "month_sales_fuel=data.groupby(['date', 'fuel_type'])['quantity'].sum().reset_index()\n",
    "plt.figure(figsize=(7, 3))\n",
    "sns.lineplot(x='date', y='quantity',hue = 'fuel_type',  data=month_sales_fuel)\n",
    "#month_sales\n",
    "\n",
    "plt.title('Динамика продаж в зависимости от типа топлива')\n",
    "plt.xlabel('Месяц')\n",
    "plt.ylabel('Количество, шт')"
   ]
  },
  {
   "cell_type": "markdown",
   "id": "6a5a3cb4",
   "metadata": {
    "id": "6a5a3cb4"
   },
   "source": [
    "Ожидаемо, бензин является самым популярным видом топлива"
   ]
  },
  {
   "cell_type": "code",
   "execution_count": 101,
   "id": "c9b648db",
   "metadata": {
    "id": "c9b648db",
    "outputId": "68d07b64-4c03-4717-957d-e7fe4322e18f"
   },
   "outputs": [
    {
     "data": {
      "text/plain": [
       "Text(0, 0.5, 'Количество, шт')"
      ]
     },
     "execution_count": 101,
     "metadata": {},
     "output_type": "execute_result"
    },
    {
     "data": {
      "image/png": "[encoded data removed]",
      "text/plain": [
       "<Figure size 504x216 with 1 Axes>"
      ]
     },
     "metadata": {
      "needs_background": "light"
     },
     "output_type": "display_data"
    }
   ],
   "source": [
    "#строим график динамики продаж в зависимости от сегмента\n",
    "month_sales_class=data.groupby(['date', 'segment_2013'])['quantity'].sum().reset_index()\n",
    "plt.figure(figsize=(7, 3))\n",
    "sns.lineplot(x='date', y='quantity',hue = 'segment_2013',  data=month_sales_class)\n",
    "#month_sales\n",
    "\n",
    "plt.title('Динамика продаж по сегментам')\n",
    "plt.xlabel('Месяц')\n",
    "plt.ylabel('Количество, шт')"
   ]
  },
  {
   "cell_type": "markdown",
   "id": "78cb4394",
   "metadata": {
    "id": "78cb4394"
   },
   "source": [
    "Самые популярные категории авто - легковые и внедорожники. Причем в августе продажи внедорожников обогнали легковые авто"
   ]
  },
  {
   "cell_type": "code",
   "execution_count": 102,
   "id": "6942a047",
   "metadata": {
    "id": "6942a047",
    "outputId": "eb780b6b-4021-4caa-c61d-fd643c97550f"
   },
   "outputs": [
    {
     "data": {
      "text/plain": [
       "Text(0, 0.5, 'Выручка, USD')"
      ]
     },
     "execution_count": 102,
     "metadata": {},
     "output_type": "execute_result"
    },
    {
     "data": {
      "image/png": "[encoded data removed]",
      "text/plain": [
       "<Figure size 504x216 with 1 Axes>"
      ]
     },
     "metadata": {
      "needs_background": "light"
     },
     "output_type": "display_data"
    }
   ],
   "source": [
    "#строим график динамики продаж по сегментам в денежном выражении\n",
    "month_sales_class=data.groupby(['date', 'segment_2013'])['sale_usd'].sum().reset_index()\n",
    "plt.figure(figsize=(7, 3))\n",
    "sns.lineplot(x='date', y='sale_usd',hue = 'segment_2013',  data=month_sales_class)\n",
    "#month_sales\n",
    "\n",
    "plt.title('Динамика продаж по сегментам в денежном выражении')\n",
    "plt.xlabel('Месяц')\n",
    "plt.ylabel('Выручка, USD')"
   ]
  },
  {
   "cell_type": "markdown",
   "id": "ebf757d9",
   "metadata": {
    "id": "ebf757d9"
   },
   "source": [
    "В денежном выражении больше всего выручки принесли продажи внедорожников. Меньше всего - продажи минивэнов"
   ]
  },
  {
   "cell_type": "code",
   "execution_count": 115,
   "id": "e5b3543c",
   "metadata": {
    "id": "e5b3543c",
    "outputId": "e6b4b10f-a904-4821-f6bd-10f1e8850450"
   },
   "outputs": [
    {
     "data": {
      "text/plain": [
       "Text(0, 0.5, 'Количество, шт')"
      ]
     },
     "execution_count": 115,
     "metadata": {},
     "output_type": "execute_result"
    },
    {
     "data": {
      "image/png": "[encoded data removed]",
      "text/plain": [
       "<Figure size 504x216 with 1 Axes>"
      ]
     },
     "metadata": {
      "needs_background": "light"
     },
     "output_type": "display_data"
    }
   ],
   "source": [
    "#строим график динамики продаж в количественном выражении в зависимости от типа коробки передач\n",
    "month_sales_class=data.groupby(['date', 'transmission'])['quantity'].sum().reset_index()\n",
    "plt.figure(figsize=(7, 3))\n",
    "sns.lineplot(x='date', y='quantity',hue = 'transmission',  data=month_sales_class)\n",
    "#month_sales\n",
    "\n",
    "plt.title('Динамика продаж в зависимости от коробки передач')\n",
    "plt.xlabel('Месяц')\n",
    "plt.ylabel('Количество, шт')"
   ]
  },
  {
   "cell_type": "markdown",
   "id": "d9f67239",
   "metadata": {
    "id": "d9f67239"
   },
   "source": [
    "Автомобили с автоматической коробкой передач продавались чаще, чем с механической"
   ]
  },
  {
   "cell_type": "code",
   "execution_count": 116,
   "id": "7b98eccc",
   "metadata": {
    "id": "7b98eccc",
    "outputId": "9f69ba61-022b-497e-af26-8440d1b133d1"
   },
   "outputs": [
    {
     "data": {
      "text/plain": [
       "Text(0, 0.5, 'Количество, шт')"
      ]
     },
     "execution_count": 116,
     "metadata": {},
     "output_type": "execute_result"
    },
    {
     "data": {
      "image/png": "[encoded data removed]",
      "text/plain": [
       "<Figure size 504x216 with 1 Axes>"
      ]
     },
     "metadata": {
      "needs_background": "light"
     },
     "output_type": "display_data"
    }
   ],
   "source": [
    "#строим график динамики продаж в количественном выражении в зависимости от типа привода\n",
    "month_sales_class=data.groupby(['date', 'drive_type'])['quantity'].sum().reset_index()\n",
    "plt.figure(figsize=(7, 3))\n",
    "sns.lineplot(x='date', y='quantity',hue = 'drive_type',  data=month_sales_class)\n",
    "#month_sales\n",
    "\n",
    "plt.title('Динамика продаж в зависимости от типа привода')\n",
    "plt.xlabel('Месяц')\n",
    "plt.ylabel('Количество, шт')"
   ]
  },
  {
   "cell_type": "markdown",
   "id": "8140ee9f",
   "metadata": {
    "id": "8140ee9f"
   },
   "source": [
    "В лидерах передний и подный привод. В целом они отночительно ровно продавались в течение года. По полному приводу более заметен рост, чем по переднему."
   ]
  },
  {
   "cell_type": "code",
   "execution_count": 117,
   "id": "0a16bedc",
   "metadata": {
    "id": "0a16bedc",
    "outputId": "976f8b71-c5fc-4c31-a08f-9e4119971be4"
   },
   "outputs": [
    {
     "data": {
      "text/html": [
       "<div>\n",
       "<style scoped>\n",
       "    .dataframe tbody tr th:only-of-type {\n",
       "        vertical-align: middle;\n",
       "    }\n",
       "\n",
       "    .dataframe tbody tr th {\n",
       "        vertical-align: top;\n",
       "    }\n",
       "\n",
       "    .dataframe thead th {\n",
       "        text-align: right;\n",
       "    }\n",
       "</style>\n",
       "<table border=\"1\" class=\"dataframe\">\n",
       "  <thead>\n",
       "    <tr style=\"text-align: right;\">\n",
       "      <th></th>\n",
       "      <th>region</th>\n",
       "      <th>sale_usd</th>\n",
       "    </tr>\n",
       "  </thead>\n",
       "  <tbody>\n",
       "    <tr>\n",
       "      <th>0</th>\n",
       "      <td>Алматы</td>\n",
       "      <td>3.711375e+08</td>\n",
       "    </tr>\n",
       "    <tr>\n",
       "      <th>1</th>\n",
       "      <td>Астана</td>\n",
       "      <td>2.677945e+08</td>\n",
       "    </tr>\n",
       "    <tr>\n",
       "      <th>2</th>\n",
       "      <td>Атырау</td>\n",
       "      <td>7.065166e+07</td>\n",
       "    </tr>\n",
       "    <tr>\n",
       "      <th>3</th>\n",
       "      <td>Костанай</td>\n",
       "      <td>5.770569e+07</td>\n",
       "    </tr>\n",
       "    <tr>\n",
       "      <th>4</th>\n",
       "      <td>Шымкент</td>\n",
       "      <td>5.758839e+07</td>\n",
       "    </tr>\n",
       "    <tr>\n",
       "      <th>5</th>\n",
       "      <td>Караганда</td>\n",
       "      <td>5.272039e+07</td>\n",
       "    </tr>\n",
       "    <tr>\n",
       "      <th>6</th>\n",
       "      <td>Актау</td>\n",
       "      <td>4.433998e+07</td>\n",
       "    </tr>\n",
       "    <tr>\n",
       "      <th>7</th>\n",
       "      <td>Актобе</td>\n",
       "      <td>4.061759e+07</td>\n",
       "    </tr>\n",
       "    <tr>\n",
       "      <th>8</th>\n",
       "      <td>Уральск</td>\n",
       "      <td>3.915375e+07</td>\n",
       "    </tr>\n",
       "    <tr>\n",
       "      <th>9</th>\n",
       "      <td>Усть-Каменогорск</td>\n",
       "      <td>3.805718e+07</td>\n",
       "    </tr>\n",
       "    <tr>\n",
       "      <th>10</th>\n",
       "      <td>Павлодар</td>\n",
       "      <td>3.198020e+07</td>\n",
       "    </tr>\n",
       "    <tr>\n",
       "      <th>11</th>\n",
       "      <td>ЭКСПОРТ</td>\n",
       "      <td>1.482840e+07</td>\n",
       "    </tr>\n",
       "    <tr>\n",
       "      <th>12</th>\n",
       "      <td>Кызылорда</td>\n",
       "      <td>1.371436e+07</td>\n",
       "    </tr>\n",
       "    <tr>\n",
       "      <th>13</th>\n",
       "      <td>Петропавловск</td>\n",
       "      <td>1.305968e+07</td>\n",
       "    </tr>\n",
       "    <tr>\n",
       "      <th>14</th>\n",
       "      <td>Семей</td>\n",
       "      <td>1.084082e+07</td>\n",
       "    </tr>\n",
       "  </tbody>\n",
       "</table>\n",
       "</div>"
      ],
      "text/plain": [
       "              region      sale_usd\n",
       "0             Алматы  3.711375e+08\n",
       "1             Астана  2.677945e+08\n",
       "2             Атырау  7.065166e+07\n",
       "3           Костанай  5.770569e+07\n",
       "4            Шымкент  5.758839e+07\n",
       "5          Караганда  5.272039e+07\n",
       "6              Актау  4.433998e+07\n",
       "7             Актобе  4.061759e+07\n",
       "8            Уральск  3.915375e+07\n",
       "9   Усть-Каменогорск  3.805718e+07\n",
       "10          Павлодар  3.198020e+07\n",
       "11           ЭКСПОРТ  1.482840e+07\n",
       "12         Кызылорда  1.371436e+07\n",
       "13     Петропавловск  1.305968e+07\n",
       "14             Семей  1.084082e+07"
      ]
     },
     "execution_count": 117,
     "metadata": {},
     "output_type": "execute_result"
    }
   ],
   "source": [
    "#делаем талицу продаж по городам\n",
    "month_sales_region=data.groupby(['region'])['sale_usd'].sum().sort_values(ascending = False,\n",
    "                                                                                              ).reset_index()\n",
    "month_sales_region.head(15)"
   ]
  },
  {
   "cell_type": "markdown",
   "id": "8ac76535",
   "metadata": {
    "id": "8ac76535"
   },
   "source": [
    "Больше всего продаж в крупных городах - Алматы, Астана. Также в пятерку городов-лидеров продаж входит Костанай - приграничный с Россией город"
   ]
  },
  {
   "cell_type": "code",
   "execution_count": 118,
   "id": "a9ee42d9",
   "metadata": {
    "id": "a9ee42d9",
    "outputId": "b7b20221-96cc-434e-a401-20b98f322a51"
   },
   "outputs": [
    {
     "data": {
      "text/html": [
       "<div>\n",
       "<style scoped>\n",
       "    .dataframe tbody tr th:only-of-type {\n",
       "        vertical-align: middle;\n",
       "    }\n",
       "\n",
       "    .dataframe tbody tr th {\n",
       "        vertical-align: top;\n",
       "    }\n",
       "\n",
       "    .dataframe thead th {\n",
       "        text-align: right;\n",
       "    }\n",
       "</style>\n",
       "<table border=\"1\" class=\"dataframe\">\n",
       "  <thead>\n",
       "    <tr style=\"text-align: right;\">\n",
       "      <th></th>\n",
       "      <th>company</th>\n",
       "      <th>sale_usd</th>\n",
       "      <th>percent,%</th>\n",
       "    </tr>\n",
       "  </thead>\n",
       "  <tbody>\n",
       "    <tr>\n",
       "      <th>0</th>\n",
       "      <td>Toyota Motor Kazakhstan</td>\n",
       "      <td>4.686336e+08</td>\n",
       "      <td>40.790748</td>\n",
       "    </tr>\n",
       "    <tr>\n",
       "      <th>1</th>\n",
       "      <td>БИПЭК АВТО</td>\n",
       "      <td>1.545306e+08</td>\n",
       "      <td>13.450632</td>\n",
       "    </tr>\n",
       "    <tr>\n",
       "      <th>2</th>\n",
       "      <td>Astana Motors</td>\n",
       "      <td>1.289156e+08</td>\n",
       "      <td>11.221058</td>\n",
       "    </tr>\n",
       "    <tr>\n",
       "      <th>3</th>\n",
       "      <td>Вираж</td>\n",
       "      <td>5.811699e+07</td>\n",
       "      <td>5.058611</td>\n",
       "    </tr>\n",
       "    <tr>\n",
       "      <th>4</th>\n",
       "      <td>ТК КАМАЗ</td>\n",
       "      <td>4.866654e+07</td>\n",
       "      <td>4.236026</td>\n",
       "    </tr>\n",
       "    <tr>\n",
       "      <th>5</th>\n",
       "      <td>Nissan Manufacturing RUS</td>\n",
       "      <td>4.385460e+07</td>\n",
       "      <td>3.817186</td>\n",
       "    </tr>\n",
       "    <tr>\n",
       "      <th>6</th>\n",
       "      <td>Mercur Auto</td>\n",
       "      <td>3.144025e+07</td>\n",
       "      <td>2.736618</td>\n",
       "    </tr>\n",
       "    <tr>\n",
       "      <th>7</th>\n",
       "      <td>Allur Auto</td>\n",
       "      <td>3.004613e+07</td>\n",
       "      <td>2.615271</td>\n",
       "    </tr>\n",
       "    <tr>\n",
       "      <th>8</th>\n",
       "      <td>Автоцентр-Бавария</td>\n",
       "      <td>2.428358e+07</td>\n",
       "      <td>2.113688</td>\n",
       "    </tr>\n",
       "    <tr>\n",
       "      <th>9</th>\n",
       "      <td>Jaguar Land Rover</td>\n",
       "      <td>1.763110e+07</td>\n",
       "      <td>1.534644</td>\n",
       "    </tr>\n",
       "  </tbody>\n",
       "</table>\n",
       "</div>"
      ],
      "text/plain": [
       "                    company      sale_usd  percent,%\n",
       "0   Toyota Motor Kazakhstan  4.686336e+08  40.790748\n",
       "1                БИПЭК АВТО  1.545306e+08  13.450632\n",
       "2             Astana Motors  1.289156e+08  11.221058\n",
       "3                     Вираж  5.811699e+07   5.058611\n",
       "4                  ТК КАМАЗ  4.866654e+07   4.236026\n",
       "5  Nissan Manufacturing RUS  4.385460e+07   3.817186\n",
       "6               Mercur Auto  3.144025e+07   2.736618\n",
       "7                Allur Auto  3.004613e+07   2.615271\n",
       "8         Автоцентр-Бавария  2.428358e+07   2.113688\n",
       "9         Jaguar Land Rover  1.763110e+07   1.534644"
      ]
     },
     "execution_count": 118,
     "metadata": {},
     "output_type": "execute_result"
    }
   ],
   "source": [
    "#таблица продаж по автоцентрам\n",
    "companies = data.groupby(['company'])['sale_usd'].sum().sort_values( ascending = False).reset_index()\n",
    "companies['percent,%'] = companies['sale_usd'] / companies['sale_usd'].sum()*100\n",
    "companies.head(10)"
   ]
  },
  {
   "cell_type": "code",
   "execution_count": 119,
   "id": "e7a6e5a9",
   "metadata": {
    "id": "e7a6e5a9",
    "outputId": "abe2d634-6c43-4858-e79d-2963c87a5865"
   },
   "outputs": [
    {
     "data": {
      "text/html": [
       "<div>\n",
       "<style scoped>\n",
       "    .dataframe tbody tr th:only-of-type {\n",
       "        vertical-align: middle;\n",
       "    }\n",
       "\n",
       "    .dataframe tbody tr th {\n",
       "        vertical-align: top;\n",
       "    }\n",
       "\n",
       "    .dataframe thead th {\n",
       "        text-align: right;\n",
       "    }\n",
       "</style>\n",
       "<table border=\"1\" class=\"dataframe\">\n",
       "  <thead>\n",
       "    <tr style=\"text-align: right;\">\n",
       "      <th></th>\n",
       "      <th>company</th>\n",
       "      <th>quantity</th>\n",
       "      <th>percent,%</th>\n",
       "    </tr>\n",
       "  </thead>\n",
       "  <tbody>\n",
       "    <tr>\n",
       "      <th>0</th>\n",
       "      <td>БИПЭК АВТО</td>\n",
       "      <td>12757.0</td>\n",
       "      <td>29.263873</td>\n",
       "    </tr>\n",
       "    <tr>\n",
       "      <th>1</th>\n",
       "      <td>Toyota Motor Kazakhstan</td>\n",
       "      <td>10442.0</td>\n",
       "      <td>23.953387</td>\n",
       "    </tr>\n",
       "    <tr>\n",
       "      <th>2</th>\n",
       "      <td>Astana Motors</td>\n",
       "      <td>5781.0</td>\n",
       "      <td>13.261303</td>\n",
       "    </tr>\n",
       "    <tr>\n",
       "      <th>3</th>\n",
       "      <td>Вираж</td>\n",
       "      <td>3358.0</td>\n",
       "      <td>7.703072</td>\n",
       "    </tr>\n",
       "    <tr>\n",
       "      <th>4</th>\n",
       "      <td>Nissan Manufacturing RUS</td>\n",
       "      <td>1761.0</td>\n",
       "      <td>4.039639</td>\n",
       "    </tr>\n",
       "    <tr>\n",
       "      <th>5</th>\n",
       "      <td>УзАвто-Казахстан</td>\n",
       "      <td>1727.0</td>\n",
       "      <td>3.961645</td>\n",
       "    </tr>\n",
       "    <tr>\n",
       "      <th>6</th>\n",
       "      <td>Allur Auto</td>\n",
       "      <td>1359.0</td>\n",
       "      <td>3.117473</td>\n",
       "    </tr>\n",
       "    <tr>\n",
       "      <th>7</th>\n",
       "      <td>Renault Россия</td>\n",
       "      <td>1084.0</td>\n",
       "      <td>2.486638</td>\n",
       "    </tr>\n",
       "    <tr>\n",
       "      <th>8</th>\n",
       "      <td>Mercur Auto</td>\n",
       "      <td>1070.0</td>\n",
       "      <td>2.454523</td>\n",
       "    </tr>\n",
       "    <tr>\n",
       "      <th>9</th>\n",
       "      <td>ТК КАМАЗ</td>\n",
       "      <td>888.0</td>\n",
       "      <td>2.037024</td>\n",
       "    </tr>\n",
       "  </tbody>\n",
       "</table>\n",
       "</div>"
      ],
      "text/plain": [
       "                    company  quantity  percent,%\n",
       "0                БИПЭК АВТО   12757.0  29.263873\n",
       "1   Toyota Motor Kazakhstan   10442.0  23.953387\n",
       "2             Astana Motors    5781.0  13.261303\n",
       "3                     Вираж    3358.0   7.703072\n",
       "4  Nissan Manufacturing RUS    1761.0   4.039639\n",
       "5          УзАвто-Казахстан    1727.0   3.961645\n",
       "6                Allur Auto    1359.0   3.117473\n",
       "7            Renault Россия    1084.0   2.486638\n",
       "8               Mercur Auto    1070.0   2.454523\n",
       "9                  ТК КАМАЗ     888.0   2.037024"
      ]
     },
     "execution_count": 119,
     "metadata": {},
     "output_type": "execute_result"
    }
   ],
   "source": [
    "companies = data.groupby('company')['quantity'].sum().sort_values( ascending = False).reset_index()\n",
    "companies['percent,%'] = companies['quantity'] / companies['quantity'].sum()*100\n",
    "companies.head(10)"
   ]
  },
  {
   "cell_type": "markdown",
   "id": "3b0e0979",
   "metadata": {
    "id": "3b0e0979"
   },
   "source": [
    "Более 40% выручки приходится на автоцентр Toyota Motor Kazakhstan, при этом в количественном выражении лидирует БИПЭК АВТО (29,26% от всех проданных авто)"
   ]
  },
  {
   "cell_type": "code",
   "execution_count": 108,
   "id": "5d455f57",
   "metadata": {
    "id": "5d455f57",
    "outputId": "b2d6bf75-049c-4d8c-cbe1-f12e7f0c4246"
   },
   "outputs": [
    {
     "data": {
      "text/html": [
       "<div>\n",
       "<style scoped>\n",
       "    .dataframe tbody tr th:only-of-type {\n",
       "        vertical-align: middle;\n",
       "    }\n",
       "\n",
       "    .dataframe tbody tr th {\n",
       "        vertical-align: top;\n",
       "    }\n",
       "\n",
       "    .dataframe thead th {\n",
       "        text-align: right;\n",
       "    }\n",
       "</style>\n",
       "<table border=\"1\" class=\"dataframe\">\n",
       "  <thead>\n",
       "    <tr style=\"text-align: right;\">\n",
       "      <th></th>\n",
       "      <th>segment_2013</th>\n",
       "      <th>class_2013</th>\n",
       "      <th>quantity</th>\n",
       "    </tr>\n",
       "  </thead>\n",
       "  <tbody>\n",
       "    <tr>\n",
       "      <th>0</th>\n",
       "      <td>Внедорожники</td>\n",
       "      <td>Компактные SUV</td>\n",
       "      <td>5551.0</td>\n",
       "    </tr>\n",
       "    <tr>\n",
       "      <th>1</th>\n",
       "      <td>Внедорожники</td>\n",
       "      <td>Полноразмерные SUV</td>\n",
       "      <td>2087.0</td>\n",
       "    </tr>\n",
       "    <tr>\n",
       "      <th>2</th>\n",
       "      <td>Внедорожники</td>\n",
       "      <td>Среднеразмерные SUV</td>\n",
       "      <td>3138.0</td>\n",
       "    </tr>\n",
       "    <tr>\n",
       "      <th>3</th>\n",
       "      <td>Внедорожники</td>\n",
       "      <td>Стандартные SUV</td>\n",
       "      <td>2518.0</td>\n",
       "    </tr>\n",
       "    <tr>\n",
       "      <th>4</th>\n",
       "      <td>Внедорожники</td>\n",
       "      <td>Субкомпактные SUV</td>\n",
       "      <td>4515.0</td>\n",
       "    </tr>\n",
       "    <tr>\n",
       "      <th>5</th>\n",
       "      <td>Коммерческие автомобили</td>\n",
       "      <td>Большие автобусы</td>\n",
       "      <td>181.0</td>\n",
       "    </tr>\n",
       "    <tr>\n",
       "      <th>6</th>\n",
       "      <td>Коммерческие автомобили</td>\n",
       "      <td>Крупнотоннажные грузовики</td>\n",
       "      <td>1249.0</td>\n",
       "    </tr>\n",
       "    <tr>\n",
       "      <th>7</th>\n",
       "      <td>Коммерческие автомобили</td>\n",
       "      <td>Малотоннажные грузовики</td>\n",
       "      <td>2181.0</td>\n",
       "    </tr>\n",
       "    <tr>\n",
       "      <th>8</th>\n",
       "      <td>Коммерческие автомобили</td>\n",
       "      <td>Микроавтобусы</td>\n",
       "      <td>291.0</td>\n",
       "    </tr>\n",
       "    <tr>\n",
       "      <th>9</th>\n",
       "      <td>Коммерческие автомобили</td>\n",
       "      <td>Развозные автомобили</td>\n",
       "      <td>844.0</td>\n",
       "    </tr>\n",
       "    <tr>\n",
       "      <th>10</th>\n",
       "      <td>Коммерческие автомобили</td>\n",
       "      <td>Среднетоннажные грузовики</td>\n",
       "      <td>72.0</td>\n",
       "    </tr>\n",
       "    <tr>\n",
       "      <th>11</th>\n",
       "      <td>Коммерческие автомобили</td>\n",
       "      <td>Средние автобусы</td>\n",
       "      <td>25.0</td>\n",
       "    </tr>\n",
       "    <tr>\n",
       "      <th>12</th>\n",
       "      <td>Легковые автомобили</td>\n",
       "      <td>A класс</td>\n",
       "      <td>159.0</td>\n",
       "    </tr>\n",
       "    <tr>\n",
       "      <th>13</th>\n",
       "      <td>Легковые автомобили</td>\n",
       "      <td>B класс</td>\n",
       "      <td>12054.0</td>\n",
       "    </tr>\n",
       "    <tr>\n",
       "      <th>14</th>\n",
       "      <td>Легковые автомобили</td>\n",
       "      <td>C класс</td>\n",
       "      <td>3680.0</td>\n",
       "    </tr>\n",
       "    <tr>\n",
       "      <th>15</th>\n",
       "      <td>Легковые автомобили</td>\n",
       "      <td>D класс</td>\n",
       "      <td>184.0</td>\n",
       "    </tr>\n",
       "    <tr>\n",
       "      <th>16</th>\n",
       "      <td>Легковые автомобили</td>\n",
       "      <td>E класс</td>\n",
       "      <td>3831.0</td>\n",
       "    </tr>\n",
       "    <tr>\n",
       "      <th>17</th>\n",
       "      <td>Легковые автомобили</td>\n",
       "      <td>F класс</td>\n",
       "      <td>85.0</td>\n",
       "    </tr>\n",
       "    <tr>\n",
       "      <th>18</th>\n",
       "      <td>Легковые автомобили</td>\n",
       "      <td>Спортивные автомобили</td>\n",
       "      <td>5.0</td>\n",
       "    </tr>\n",
       "    <tr>\n",
       "      <th>19</th>\n",
       "      <td>Минивэны</td>\n",
       "      <td>Компактвэн</td>\n",
       "      <td>8.0</td>\n",
       "    </tr>\n",
       "    <tr>\n",
       "      <th>20</th>\n",
       "      <td>Минивэны</td>\n",
       "      <td>Полноразмерный Минивэн</td>\n",
       "      <td>54.0</td>\n",
       "    </tr>\n",
       "    <tr>\n",
       "      <th>21</th>\n",
       "      <td>Пикапы</td>\n",
       "      <td>Pick-ups</td>\n",
       "      <td>881.0</td>\n",
       "    </tr>\n",
       "  </tbody>\n",
       "</table>\n",
       "</div>"
      ],
      "text/plain": [
       "                segment_2013                  class_2013  quantity\n",
       "0              Внедорожники              Компактные SUV     5551.0\n",
       "1              Внедорожники          Полноразмерные SUV     2087.0\n",
       "2              Внедорожники         Среднеразмерные SUV     3138.0\n",
       "3              Внедорожники             Стандартные SUV     2518.0\n",
       "4              Внедорожники           Субкомпактные SUV     4515.0\n",
       "5   Коммерческие автомобили            Большие автобусы      181.0\n",
       "6   Коммерческие автомобили   Крупнотоннажные грузовики     1249.0\n",
       "7   Коммерческие автомобили     Малотоннажные грузовики     2181.0\n",
       "8   Коммерческие автомобили               Микроавтобусы      291.0\n",
       "9   Коммерческие автомобили        Развозные автомобили      844.0\n",
       "10  Коммерческие автомобили   Среднетоннажные грузовики       72.0\n",
       "11  Коммерческие автомобили            Средние автобусы       25.0\n",
       "12      Легковые автомобили                     A класс      159.0\n",
       "13      Легковые автомобили                     B класс    12054.0\n",
       "14      Легковые автомобили                     C класс     3680.0\n",
       "15      Легковые автомобили                     D класс      184.0\n",
       "16      Легковые автомобили                     E класс     3831.0\n",
       "17      Легковые автомобили                     F класс       85.0\n",
       "18      Легковые автомобили       Спортивные автомобили        5.0\n",
       "19                  Минивэны                  Компактвэн       8.0\n",
       "20                  Минивэны     Полноразмерный Минивэн       54.0\n",
       "21                   Пикапы                     Pick-ups     881.0"
      ]
     },
     "execution_count": 108,
     "metadata": {},
     "output_type": "execute_result"
    }
   ],
   "source": [
    "#сводная таблица по классам и сегментам\n",
    "autoclass = data.groupby(['segment_2013', 'class_2013'])['quantity'].sum().reset_index() \\\n",
    "              .sort_values(by = ['segment_2013', 'class_2013','quantity'])\n",
    "autoclass\n",
    "\n"
   ]
  },
  {
   "cell_type": "markdown",
   "id": "960f897b",
   "metadata": {
    "id": "960f897b"
   },
   "source": [
    "На основании таблицы можно заметить, что:  \n",
    "* среди внедорожников чаще продавались Компактные и Субкомпактные SUV  \n",
    "* среди легковых покупалети чаще выбирали В класс. Также необычно, что количество продаж C и E класса примерно одинаково (3600-3800 шт, а вот D класса продали только 184 шт.  \n",
    "* среди коммерческих авто чаще продавались малотоннажные грузовики, меньше всего было продано средних автобусов  \n",
    "    "
   ]
  },
  {
   "cell_type": "code",
   "execution_count": 120,
   "id": "b82bef54",
   "metadata": {
    "id": "b82bef54",
    "outputId": "eac3ba6e-b80f-4d02-e216-9525defc3ac6"
   },
   "outputs": [
    {
     "data": {
      "text/plain": [
       "Text(0, 0.5, 'Средняя цена, USD')"
      ]
     },
     "execution_count": 120,
     "metadata": {},
     "output_type": "execute_result"
    },
    {
     "data": {
      "image/png": "[encoded data removed]",
      "text/plain": [
       "<Figure size 504x216 with 1 Axes>"
      ]
     },
     "metadata": {
      "needs_background": "light"
     },
     "output_type": "display_data"
    }
   ],
   "source": [
    "#посмотрим самые дорогие марки автомобилей\n",
    "brand_price =data.groupby(['brand'])['price_usd'].mean().reset_index().sort_values(by = 'price_usd', ascending = False).head(5)\n",
    "plt.figure(figsize=(7, 3))\n",
    "sns.barplot(x='brand', y='price_usd',data=brand_price)\n",
    "\n",
    "\n",
    "plt.title('Топ-5 самых дорогих марок автомобилей')\n",
    "plt.xlabel('Марка')\n",
    "plt.ylabel('Средняя цена, USD')"
   ]
  },
  {
   "cell_type": "code",
   "execution_count": 110,
   "id": "6be2b7ab",
   "metadata": {
    "id": "6be2b7ab",
    "outputId": "7d0921a0-0b35-489a-da37-17f644377842"
   },
   "outputs": [
    {
     "data": {
      "text/plain": [
       "Text(0, 0.5, 'Средняя цена, USD')"
      ]
     },
     "execution_count": 110,
     "metadata": {},
     "output_type": "execute_result"
    },
    {
     "data": {
      "image/png": "[encoded data removed]",
      "text/plain": [
       "<Figure size 504x216 with 1 Axes>"
      ]
     },
     "metadata": {
      "needs_background": "light"
     },
     "output_type": "display_data"
    }
   ],
   "source": [
    "#посмотрим самые бюджетные марки автомобилей\n",
    "brand_price2 =data.groupby(['brand'])['price_usd'].mean().reset_index().sort_values(by = 'price_usd', ).head(5)\n",
    "plt.figure(figsize=(7, 3))\n",
    "sns.barplot(x='brand', y='price_usd',data=brand_price2)\n",
    "\n",
    "\n",
    "plt.title('Топ-5 самых бюджетных марок автомобилей')\n",
    "plt.xlabel('Марка')\n",
    "plt.ylabel('Средняя цена, USD')"
   ]
  },
  {
   "cell_type": "markdown",
   "id": "d3020d34",
   "metadata": {
    "id": "d3020d34"
   },
   "source": [
    "Среди самых дорогих марок сильно выделяется Rolls Royce со средней ценой почти 500 тысяч долларов. Также в пятерку входят MAN, Scania, Porshe,Daewoo со средней ценой примерно 100 тысяч долларов"
   ]
  },
  {
   "cell_type": "markdown",
   "id": "49d15533",
   "metadata": {
    "id": "49d15533"
   },
   "source": [
    "Среди самых дешевых автомобилей - Ravon, Lada, Renault, Lifan и Chevrolet. Интересно, что популярная Toyota не входит в этот список"
   ]
  },
  {
   "cell_type": "code",
   "execution_count": 113,
   "id": "9adbbce1",
   "metadata": {
    "id": "9adbbce1",
    "outputId": "85f265f3-5247-4dd7-d6e8-79f572ee46cd"
   },
   "outputs": [
    {
     "data": {
      "text/html": [
       "<div>\n",
       "<style scoped>\n",
       "    .dataframe tbody tr th:only-of-type {\n",
       "        vertical-align: middle;\n",
       "    }\n",
       "\n",
       "    .dataframe tbody tr th {\n",
       "        vertical-align: top;\n",
       "    }\n",
       "\n",
       "    .dataframe thead th {\n",
       "        text-align: right;\n",
       "    }\n",
       "</style>\n",
       "<table border=\"1\" class=\"dataframe\">\n",
       "  <thead>\n",
       "    <tr style=\"text-align: right;\">\n",
       "      <th></th>\n",
       "      <th>model</th>\n",
       "      <th>sale_usd</th>\n",
       "    </tr>\n",
       "  </thead>\n",
       "  <tbody>\n",
       "    <tr>\n",
       "      <th>1</th>\n",
       "      <td>Camry</td>\n",
       "      <td>1.158829e+08</td>\n",
       "    </tr>\n",
       "    <tr>\n",
       "      <th>6</th>\n",
       "      <td>LC Prado</td>\n",
       "      <td>8.359226e+07</td>\n",
       "    </tr>\n",
       "    <tr>\n",
       "      <th>7</th>\n",
       "      <td>LC200</td>\n",
       "      <td>7.359954e+07</td>\n",
       "    </tr>\n",
       "    <tr>\n",
       "      <th>8</th>\n",
       "      <td>RAV4</td>\n",
       "      <td>4.222211e+07</td>\n",
       "    </tr>\n",
       "    <tr>\n",
       "      <th>4</th>\n",
       "      <td>HILUX DC</td>\n",
       "      <td>2.493188e+07</td>\n",
       "    </tr>\n",
       "    <tr>\n",
       "      <th>2</th>\n",
       "      <td>Corolla</td>\n",
       "      <td>2.270110e+07</td>\n",
       "    </tr>\n",
       "    <tr>\n",
       "      <th>3</th>\n",
       "      <td>HIGHLANDER</td>\n",
       "      <td>1.616251e+07</td>\n",
       "    </tr>\n",
       "    <tr>\n",
       "      <th>0</th>\n",
       "      <td>C-HR</td>\n",
       "      <td>3.251287e+06</td>\n",
       "    </tr>\n",
       "    <tr>\n",
       "      <th>5</th>\n",
       "      <td>Hiace</td>\n",
       "      <td>1.531591e+06</td>\n",
       "    </tr>\n",
       "  </tbody>\n",
       "</table>\n",
       "</div>"
      ],
      "text/plain": [
       "        model      sale_usd\n",
       "1       Camry  1.158829e+08\n",
       "6    LC Prado  8.359226e+07\n",
       "7       LC200  7.359954e+07\n",
       "8        RAV4  4.222211e+07\n",
       "4    HILUX DC  2.493188e+07\n",
       "2     Corolla  2.270110e+07\n",
       "3  HIGHLANDER  1.616251e+07\n",
       "0        C-HR  3.251287e+06\n",
       "5       Hiace  1.531591e+06"
      ]
     },
     "execution_count": 113,
     "metadata": {},
     "output_type": "execute_result"
    }
   ],
   "source": [
    "toyota_sales =data[data['brand'] == 'Toyota'].groupby(['model'])['sale_usd'].sum().reset_index().sort_values(by = 'sale_usd', ascending = False)\n",
    "toyota_sales"
   ]
  },
  {
   "cell_type": "markdown",
   "id": "7d8c1615",
   "metadata": {
    "id": "7d8c1615"
   },
   "source": [
    "у LADA самой популярной моделью оказалась Vesta"
   ]
  },
  {
   "cell_type": "markdown",
   "id": "5f0260fd",
   "metadata": {
    "id": "5f0260fd"
   },
   "source": [
    "### Выводы\n"
   ]
  },
  {
   "cell_type": "markdown",
   "id": "c8b695ea",
   "metadata": {
    "id": "c8b695ea"
   },
   "source": [
    "Выполнена цель - проанализирован рынок Казахстана\n",
    "\n",
    "Данные очищенны от дубликатов, приведены к единому стилю\n",
    "\n",
    "Были сделаны следующие наблюдения:\n",
    "\n",
    "1. Чаще всего продавалась российская LADA (22.18%), японская Toyota(21.50%) и корейский Hyundai\t(13,08%)\n",
    "1. Больше всего выручки приносит Toyota\n",
    "1. Общая сумма продаж - 1148.87 млн долларов, продано 43593 шт\n",
    "1. Toyota популярна несмотря на то, что среди иномарок есть и более бюджетные\n",
    "1. Более 70% проданных автомобилей произведены в России и Казахстане\n",
    "1. В течение 2019 года продажи росли в количестве и в денежном аквиваленте\n",
    "1. Ожидаемо, популярная коробка передач - автомат, топливо - бензин\n",
    "1.  Наблюдения  по классам автомобилей:  \n",
    "    * среди внедорожников чаще продавались Компактные и Субкомпактные SUV  \n",
    "    * среди легковых покупатели чаще выбирали В класс. Также необычно, что количество продаж D и E класса примерно одинаково (3600-3800 шт, а вот промежуточного D класса продали только 184 шт.  \n",
    "    * среди коммерческих авто чаще продавались малотоннажные грузовики, меньше всего было продано средних автобусов  \n",
    "1. Одни из самых популярных моделей авто - Lada Vesta и Toyota Camry\n",
    "1. Большая часть продаж приходится на крупные города - Астана и Алматы.\n",
    "1. Среди самых дорогих марок сильно выделяется Rolls Royce со средней ценой почти 500 тысяч долларов. Также в пятерку входят MAN, Scania, Porshe,Daewoo со средней ценой примерно 100 тысяч долларов\n",
    "1. Среди самых бюджетных автомобилей - Ravon, Lada, Renault, Lifan и Chevrolet.  Популярная Toyota не входит в этот список\n",
    "\n",
    "Рекомендации:\n",
    "\n",
    "1. Можно проанализировать, почему именно Toyota пользуется такой популярностью при относительно высокой средней цене (может удачная рекламная компания или другие факторы\n",
    "2. Обратить внимание на низкие продажи D класса легковых автомобилей"
   ]
  },
  {
   "cell_type": "code",
   "execution_count": 126,
   "id": "e25b81bd",
   "metadata": {},
   "outputs": [
    {
     "data": {
      "text/html": [
       "<div>\n",
       "<style scoped>\n",
       "    .dataframe tbody tr th:only-of-type {\n",
       "        vertical-align: middle;\n",
       "    }\n",
       "\n",
       "    .dataframe tbody tr th {\n",
       "        vertical-align: top;\n",
       "    }\n",
       "\n",
       "    .dataframe thead th {\n",
       "        text-align: right;\n",
       "    }\n",
       "</style>\n",
       "<table border=\"1\" class=\"dataframe\">\n",
       "  <thead>\n",
       "    <tr style=\"text-align: right;\">\n",
       "      <th></th>\n",
       "      <th>Бренд</th>\n",
       "      <th>w_dupl_sum</th>\n",
       "      <th>count_share_x</th>\n",
       "      <th>wo_dupl_sum</th>\n",
       "      <th>count_share_y</th>\n",
       "    </tr>\n",
       "  </thead>\n",
       "  <tbody>\n",
       "    <tr>\n",
       "      <th>0</th>\n",
       "      <td>ANKAI</td>\n",
       "      <td>73.0</td>\n",
       "      <td>0.005459</td>\n",
       "      <td>2.0</td>\n",
       "      <td>0.000065</td>\n",
       "    </tr>\n",
       "    <tr>\n",
       "      <th>1</th>\n",
       "      <td>Audi</td>\n",
       "      <td>10.0</td>\n",
       "      <td>0.000748</td>\n",
       "      <td>96.0</td>\n",
       "      <td>0.003139</td>\n",
       "    </tr>\n",
       "    <tr>\n",
       "      <th>2</th>\n",
       "      <td>Cadillac</td>\n",
       "      <td>3.0</td>\n",
       "      <td>0.000224</td>\n",
       "      <td>17.0</td>\n",
       "      <td>0.000556</td>\n",
       "    </tr>\n",
       "    <tr>\n",
       "      <th>3</th>\n",
       "      <td>Chevrolet</td>\n",
       "      <td>282.0</td>\n",
       "      <td>0.021089</td>\n",
       "      <td>445.0</td>\n",
       "      <td>0.014550</td>\n",
       "    </tr>\n",
       "    <tr>\n",
       "      <th>4</th>\n",
       "      <td>Ford</td>\n",
       "      <td>54.0</td>\n",
       "      <td>0.004038</td>\n",
       "      <td>129.0</td>\n",
       "      <td>0.004218</td>\n",
       "    </tr>\n",
       "    <tr>\n",
       "      <th>5</th>\n",
       "      <td>GAZ</td>\n",
       "      <td>407.0</td>\n",
       "      <td>0.030437</td>\n",
       "      <td>1704.0</td>\n",
       "      <td>0.055714</td>\n",
       "    </tr>\n",
       "    <tr>\n",
       "      <th>6</th>\n",
       "      <td>Hino</td>\n",
       "      <td>2.0</td>\n",
       "      <td>0.000150</td>\n",
       "      <td>60.0</td>\n",
       "      <td>0.001962</td>\n",
       "    </tr>\n",
       "    <tr>\n",
       "      <th>7</th>\n",
       "      <td>Hyundai</td>\n",
       "      <td>2971.0</td>\n",
       "      <td>0.222181</td>\n",
       "      <td>2732.0</td>\n",
       "      <td>0.089325</td>\n",
       "    </tr>\n",
       "    <tr>\n",
       "      <th>8</th>\n",
       "      <td>Hyundai Truck &amp; Bus</td>\n",
       "      <td>9.0</td>\n",
       "      <td>0.000673</td>\n",
       "      <td>168.0</td>\n",
       "      <td>0.005493</td>\n",
       "    </tr>\n",
       "    <tr>\n",
       "      <th>9</th>\n",
       "      <td>Infiniti</td>\n",
       "      <td>18.0</td>\n",
       "      <td>0.001346</td>\n",
       "      <td>81.0</td>\n",
       "      <td>0.002648</td>\n",
       "    </tr>\n",
       "    <tr>\n",
       "      <th>10</th>\n",
       "      <td>Isuzu</td>\n",
       "      <td>168.0</td>\n",
       "      <td>0.012564</td>\n",
       "      <td>31.0</td>\n",
       "      <td>0.001014</td>\n",
       "    </tr>\n",
       "    <tr>\n",
       "      <th>11</th>\n",
       "      <td>Iveco</td>\n",
       "      <td>77.0</td>\n",
       "      <td>0.005758</td>\n",
       "      <td>32.0</td>\n",
       "      <td>0.001046</td>\n",
       "    </tr>\n",
       "    <tr>\n",
       "      <th>12</th>\n",
       "      <td>Jac</td>\n",
       "      <td>575.0</td>\n",
       "      <td>0.043000</td>\n",
       "      <td>452.0</td>\n",
       "      <td>0.014778</td>\n",
       "    </tr>\n",
       "    <tr>\n",
       "      <th>13</th>\n",
       "      <td>KAMAZ</td>\n",
       "      <td>582.0</td>\n",
       "      <td>0.043524</td>\n",
       "      <td>306.0</td>\n",
       "      <td>0.010005</td>\n",
       "    </tr>\n",
       "    <tr>\n",
       "      <th>14</th>\n",
       "      <td>Kia</td>\n",
       "      <td>15.0</td>\n",
       "      <td>0.001122</td>\n",
       "      <td>1800.0</td>\n",
       "      <td>0.058852</td>\n",
       "    </tr>\n",
       "    <tr>\n",
       "      <th>15</th>\n",
       "      <td>Lada</td>\n",
       "      <td>11.0</td>\n",
       "      <td>0.000823</td>\n",
       "      <td>9656.0</td>\n",
       "      <td>0.315710</td>\n",
       "    </tr>\n",
       "    <tr>\n",
       "      <th>16</th>\n",
       "      <td>Land Rover</td>\n",
       "      <td>31.0</td>\n",
       "      <td>0.002318</td>\n",
       "      <td>139.0</td>\n",
       "      <td>0.004545</td>\n",
       "    </tr>\n",
       "    <tr>\n",
       "      <th>17</th>\n",
       "      <td>Lexus</td>\n",
       "      <td>415.0</td>\n",
       "      <td>0.031035</td>\n",
       "      <td>653.0</td>\n",
       "      <td>0.021350</td>\n",
       "    </tr>\n",
       "    <tr>\n",
       "      <th>18</th>\n",
       "      <td>Lifan</td>\n",
       "      <td>251.0</td>\n",
       "      <td>0.018771</td>\n",
       "      <td>315.0</td>\n",
       "      <td>0.010299</td>\n",
       "    </tr>\n",
       "    <tr>\n",
       "      <th>19</th>\n",
       "      <td>Mazda</td>\n",
       "      <td>4.0</td>\n",
       "      <td>0.000299</td>\n",
       "      <td>258.0</td>\n",
       "      <td>0.008436</td>\n",
       "    </tr>\n",
       "    <tr>\n",
       "      <th>20</th>\n",
       "      <td>Mitsubishi</td>\n",
       "      <td>11.0</td>\n",
       "      <td>0.000823</td>\n",
       "      <td>349.0</td>\n",
       "      <td>0.011411</td>\n",
       "    </tr>\n",
       "    <tr>\n",
       "      <th>21</th>\n",
       "      <td>Nissan</td>\n",
       "      <td>6.0</td>\n",
       "      <td>0.000449</td>\n",
       "      <td>1656.0</td>\n",
       "      <td>0.054144</td>\n",
       "    </tr>\n",
       "    <tr>\n",
       "      <th>22</th>\n",
       "      <td>Peugeot</td>\n",
       "      <td>38.0</td>\n",
       "      <td>0.002842</td>\n",
       "      <td>94.0</td>\n",
       "      <td>0.003073</td>\n",
       "    </tr>\n",
       "    <tr>\n",
       "      <th>23</th>\n",
       "      <td>Ravon</td>\n",
       "      <td>777.0</td>\n",
       "      <td>0.058106</td>\n",
       "      <td>950.0</td>\n",
       "      <td>0.031061</td>\n",
       "    </tr>\n",
       "    <tr>\n",
       "      <th>24</th>\n",
       "      <td>Renault</td>\n",
       "      <td>725.0</td>\n",
       "      <td>0.054218</td>\n",
       "      <td>614.0</td>\n",
       "      <td>0.020075</td>\n",
       "    </tr>\n",
       "    <tr>\n",
       "      <th>25</th>\n",
       "      <td>Skoda</td>\n",
       "      <td>2.0</td>\n",
       "      <td>0.000150</td>\n",
       "      <td>510.0</td>\n",
       "      <td>0.016675</td>\n",
       "    </tr>\n",
       "    <tr>\n",
       "      <th>26</th>\n",
       "      <td>Subaru</td>\n",
       "      <td>178.0</td>\n",
       "      <td>0.013311</td>\n",
       "      <td>342.0</td>\n",
       "      <td>0.011182</td>\n",
       "    </tr>\n",
       "    <tr>\n",
       "      <th>27</th>\n",
       "      <td>Toyota</td>\n",
       "      <td>5134.0</td>\n",
       "      <td>0.383937</td>\n",
       "      <td>4240.0</td>\n",
       "      <td>0.138630</td>\n",
       "    </tr>\n",
       "    <tr>\n",
       "      <th>28</th>\n",
       "      <td>UAZ</td>\n",
       "      <td>320.0</td>\n",
       "      <td>0.023931</td>\n",
       "      <td>765.0</td>\n",
       "      <td>0.025012</td>\n",
       "    </tr>\n",
       "    <tr>\n",
       "      <th>29</th>\n",
       "      <td>Volkswagen</td>\n",
       "      <td>223.0</td>\n",
       "      <td>0.016677</td>\n",
       "      <td>786.0</td>\n",
       "      <td>0.025699</td>\n",
       "    </tr>\n",
       "  </tbody>\n",
       "</table>\n",
       "</div>"
      ],
      "text/plain": [
       "                  Бренд  w_dupl_sum  count_share_x  wo_dupl_sum  count_share_y\n",
       "0                 ANKAI        73.0       0.005459          2.0       0.000065\n",
       "1                  Audi        10.0       0.000748         96.0       0.003139\n",
       "2              Cadillac         3.0       0.000224         17.0       0.000556\n",
       "3             Chevrolet       282.0       0.021089        445.0       0.014550\n",
       "4                  Ford        54.0       0.004038        129.0       0.004218\n",
       "5                   GAZ       407.0       0.030437       1704.0       0.055714\n",
       "6                  Hino         2.0       0.000150         60.0       0.001962\n",
       "7               Hyundai      2971.0       0.222181       2732.0       0.089325\n",
       "8   Hyundai Truck & Bus         9.0       0.000673        168.0       0.005493\n",
       "9              Infiniti        18.0       0.001346         81.0       0.002648\n",
       "10                Isuzu       168.0       0.012564         31.0       0.001014\n",
       "11                Iveco        77.0       0.005758         32.0       0.001046\n",
       "12                  Jac       575.0       0.043000        452.0       0.014778\n",
       "13                KAMAZ       582.0       0.043524        306.0       0.010005\n",
       "14                  Kia        15.0       0.001122       1800.0       0.058852\n",
       "15                 Lada        11.0       0.000823       9656.0       0.315710\n",
       "16           Land Rover        31.0       0.002318        139.0       0.004545\n",
       "17                Lexus       415.0       0.031035        653.0       0.021350\n",
       "18                Lifan       251.0       0.018771        315.0       0.010299\n",
       "19                Mazda         4.0       0.000299        258.0       0.008436\n",
       "20           Mitsubishi        11.0       0.000823        349.0       0.011411\n",
       "21               Nissan         6.0       0.000449       1656.0       0.054144\n",
       "22              Peugeot        38.0       0.002842         94.0       0.003073\n",
       "23                Ravon       777.0       0.058106        950.0       0.031061\n",
       "24              Renault       725.0       0.054218        614.0       0.020075\n",
       "25                Skoda         2.0       0.000150        510.0       0.016675\n",
       "26               Subaru       178.0       0.013311        342.0       0.011182\n",
       "27               Toyota      5134.0       0.383937       4240.0       0.138630\n",
       "28                  UAZ       320.0       0.023931        765.0       0.025012\n",
       "29           Volkswagen       223.0       0.016677        786.0       0.025699"
      ]
     },
     "execution_count": 126,
     "metadata": {},
     "output_type": "execute_result"
    }
   ],
   "source": [
    "# ячейка ревьюера:\n",
    "\n",
    "# подгружу исходные данные - буду еще к ним возвращаться для примеров :)\n",
    "reviewer_df = pd.read_csv('kz_2019_final_all_dirt.csv', low_memory=False).drop(columns=['Unnamed: 0'])\n",
    "\n",
    "\n",
    "# посмотрим на особенности данных, содержащие дубликаты:\n",
    "(reviewer_df[reviewer_df.duplicated() == True] # оставляем только дубликаты\n",
    " .groupby(['Бренд']) # группируем по важным признакам - компания\n",
    " .agg(w_dupl_sum = ('Количество','sum')) # подсчитываем ключевые метрики - доли по продажам\n",
    " .reset_index()\n",
    " .assign(count_share = lambda x: x['w_dupl_sum'] / reviewer_df[reviewer_df.duplicated() == True]['Количество'].sum()) # смотрим на доли\n",
    ").merge((reviewer_df[reviewer_df.duplicated() == False])\n",
    "         .groupby(['Бренд']) # группируем по важным признакам - компания\n",
    "         .agg(wo_dupl_sum = ('Количество','sum'))\n",
    "         .reset_index()\n",
    "         .assign(count_share = lambda x: x['wo_dupl_sum'] / reviewer_df[reviewer_df.duplicated() == False]['Количество'].sum()) # смотрим на доли\n",
    "        , on = \"Бренд\", how='left'\n",
    "       )"
   ]
  }
 ],
 "metadata": {
  "colab": {
   "provenance": []
  },
  "kernelspec": {
   "display_name": "Python 3 (ipykernel)",
   "language": "python",
   "name": "python3"
  },
  "language_info": {
   "codemirror_mode": {
    "name": "ipython",
    "version": 3
   },
   "file_extension": ".py",
   "mimetype": "text/x-python",
   "name": "python",
   "nbconvert_exporter": "python",
   "pygments_lexer": "ipython3",
   "version": "3.10.9"
  }
 },
 "nbformat": 4,
 "nbformat_minor": 5
}
